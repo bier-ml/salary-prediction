{
 "cells": [
  {
   "cell_type": "code",
   "execution_count": 23,
   "id": "initial_id",
   "metadata": {
    "collapsed": true,
    "ExecuteTime": {
     "end_time": "2024-01-15T12:37:03.642236Z",
     "start_time": "2024-01-15T12:37:03.604297Z"
    }
   },
   "outputs": [
    {
     "name": "stdout",
     "output_type": "stream",
     "text": [
      "The autoreload extension is already loaded. To reload it, use:\n",
      "  %reload_ext autoreload\n"
     ]
    }
   ],
   "source": [
    "import pandas as pd\n",
    "import numpy as np\n",
    "import matplotlib.pyplot as plt\n",
    "\n",
    "from core.embedding_models import FastTextEmbeddingModel\n",
    "from core.models import LinearRegressionModel, CatboostRegressionModel\n",
    "\n",
    "%load_ext autoreload\n",
    "%autoreload 2"
   ]
  },
  {
   "cell_type": "code",
   "execution_count": 24,
   "outputs": [
    {
     "data": {
      "text/plain": "         id    custom_position             schedule  salary_from  salary_to  \\\n0  48202096    Сварщик-сборщик  полный рабочий день        60000     120000   \n1  48202097  Сварщик-монтажник  полный рабочий день        60000     120000   \n2  48202098    Слесарь-сборщик  полный рабочий день        60000      80000   \n3  48202356  Грузчик-упаковщик  частичная занятость        30000      35000   \n4  48202357  Грузчик-упаковщик  частичная занятость        30000      35000   \n\n  salary_pay_type  offer_education_id education_name  education_is_base  \\\n0             NaN                   0          любое               True   \n1             NaN                   0          любое               True   \n2             NaN                   0          любое               True   \n3             NaN                   0          любое               True   \n4             NaN                   0          любое               True   \n\n   education_order_num  city_id  \\\n0                    0        2   \n1                    0        2   \n2                    0        2   \n3                    0        1   \n4                    0       57   \n\n                                        list_regions  \\\n0                                                [4]   \n1                                                [4]   \n2                                                [4]   \n3                                                [3]   \n4  [181, 182, 183, 185, 186, 187, 188, 189, 190, ...   \n\n                                         work_skills tags_id  \n0  ['сварочные работы', 'сборка изделий по чертеж...     NaN  \n1  ['монтажные работы', 'строительные работы', 'э...     NaN  \n2  ['работа на фрезерных станках', 'слесарный рем...     NaN  \n3  ['комплектация товара', 'маркировка', 'стрессо...  [6, 9]  \n4  ['маркировка', 'стрессоустойчивость', 'погрузо...  [6, 9]  ",
      "text/html": "<div>\n<style scoped>\n    .dataframe tbody tr th:only-of-type {\n        vertical-align: middle;\n    }\n\n    .dataframe tbody tr th {\n        vertical-align: top;\n    }\n\n    .dataframe thead th {\n        text-align: right;\n    }\n</style>\n<table border=\"1\" class=\"dataframe\">\n  <thead>\n    <tr style=\"text-align: right;\">\n      <th></th>\n      <th>id</th>\n      <th>custom_position</th>\n      <th>schedule</th>\n      <th>salary_from</th>\n      <th>salary_to</th>\n      <th>salary_pay_type</th>\n      <th>offer_education_id</th>\n      <th>education_name</th>\n      <th>education_is_base</th>\n      <th>education_order_num</th>\n      <th>city_id</th>\n      <th>list_regions</th>\n      <th>work_skills</th>\n      <th>tags_id</th>\n    </tr>\n  </thead>\n  <tbody>\n    <tr>\n      <th>0</th>\n      <td>48202096</td>\n      <td>Сварщик-сборщик</td>\n      <td>полный рабочий день</td>\n      <td>60000</td>\n      <td>120000</td>\n      <td>NaN</td>\n      <td>0</td>\n      <td>любое</td>\n      <td>True</td>\n      <td>0</td>\n      <td>2</td>\n      <td>[4]</td>\n      <td>['сварочные работы', 'сборка изделий по чертеж...</td>\n      <td>NaN</td>\n    </tr>\n    <tr>\n      <th>1</th>\n      <td>48202097</td>\n      <td>Сварщик-монтажник</td>\n      <td>полный рабочий день</td>\n      <td>60000</td>\n      <td>120000</td>\n      <td>NaN</td>\n      <td>0</td>\n      <td>любое</td>\n      <td>True</td>\n      <td>0</td>\n      <td>2</td>\n      <td>[4]</td>\n      <td>['монтажные работы', 'строительные работы', 'э...</td>\n      <td>NaN</td>\n    </tr>\n    <tr>\n      <th>2</th>\n      <td>48202098</td>\n      <td>Слесарь-сборщик</td>\n      <td>полный рабочий день</td>\n      <td>60000</td>\n      <td>80000</td>\n      <td>NaN</td>\n      <td>0</td>\n      <td>любое</td>\n      <td>True</td>\n      <td>0</td>\n      <td>2</td>\n      <td>[4]</td>\n      <td>['работа на фрезерных станках', 'слесарный рем...</td>\n      <td>NaN</td>\n    </tr>\n    <tr>\n      <th>3</th>\n      <td>48202356</td>\n      <td>Грузчик-упаковщик</td>\n      <td>частичная занятость</td>\n      <td>30000</td>\n      <td>35000</td>\n      <td>NaN</td>\n      <td>0</td>\n      <td>любое</td>\n      <td>True</td>\n      <td>0</td>\n      <td>1</td>\n      <td>[3]</td>\n      <td>['комплектация товара', 'маркировка', 'стрессо...</td>\n      <td>[6, 9]</td>\n    </tr>\n    <tr>\n      <th>4</th>\n      <td>48202357</td>\n      <td>Грузчик-упаковщик</td>\n      <td>частичная занятость</td>\n      <td>30000</td>\n      <td>35000</td>\n      <td>NaN</td>\n      <td>0</td>\n      <td>любое</td>\n      <td>True</td>\n      <td>0</td>\n      <td>57</td>\n      <td>[181, 182, 183, 185, 186, 187, 188, 189, 190, ...</td>\n      <td>['маркировка', 'стрессоустойчивость', 'погрузо...</td>\n      <td>[6, 9]</td>\n    </tr>\n  </tbody>\n</table>\n</div>"
     },
     "execution_count": 24,
     "metadata": {},
     "output_type": "execute_result"
    }
   ],
   "source": [
    "df = pd.read_csv(\"../data/data_vacancies.csv\")\n",
    "df.head()"
   ],
   "metadata": {
    "collapsed": false,
    "ExecuteTime": {
     "end_time": "2024-01-15T12:37:13.538797Z",
     "start_time": "2024-01-15T12:37:12.365858Z"
    }
   },
   "id": "2c750c4f62a2bf5c"
  },
  {
   "cell_type": "code",
   "execution_count": 25,
   "outputs": [],
   "source": [
    "df[\"salary_mean\"] = (df.salary_from + df.salary_to) / 2\n",
    "df[\"target\"] = df.salary_mean\n",
    "df = df[df.salary_mean < df.salary_mean.quantile(0.95)]"
   ],
   "metadata": {
    "collapsed": false,
    "ExecuteTime": {
     "end_time": "2024-01-15T12:37:15.314147Z",
     "start_time": "2024-01-15T12:37:15.268816Z"
    }
   },
   "id": "f0e89904e691359e"
  },
  {
   "cell_type": "code",
   "execution_count": 5,
   "outputs": [],
   "source": [
    "fasttext_embedding_model = FastTextEmbeddingModel()"
   ],
   "metadata": {
    "collapsed": false,
    "ExecuteTime": {
     "end_time": "2024-01-15T12:31:05.106653Z",
     "start_time": "2024-01-15T12:29:43.927906Z"
    }
   },
   "id": "a0b40077e310d947"
  },
  {
   "cell_type": "code",
   "execution_count": 26,
   "outputs": [],
   "source": [
    "lr_model = LinearRegressionModel(embedding_model=fasttext_embedding_model)"
   ],
   "metadata": {
    "collapsed": false,
    "ExecuteTime": {
     "end_time": "2024-01-15T12:37:19.646943Z",
     "start_time": "2024-01-15T12:37:19.624968Z"
    }
   },
   "id": "e6f357f0d61fc27f"
  },
  {
   "cell_type": "code",
   "execution_count": 27,
   "outputs": [],
   "source": [
    "cols_to_concat = [\"custom_position\"]\n",
    "df[\"combined_string\"] = df[cols_to_concat].agg(\"\\n\".join, axis=1)\n",
    "\n",
    "df[\"emb\"] = df.combined_string.apply(lambda x: fasttext_embedding_model.generate(x))"
   ],
   "metadata": {
    "collapsed": false,
    "ExecuteTime": {
     "end_time": "2024-01-15T12:37:22.134631Z",
     "start_time": "2024-01-15T12:37:21.583304Z"
    }
   },
   "id": "6b4b2f225ee708a3"
  },
  {
   "cell_type": "code",
   "execution_count": 28,
   "outputs": [
    {
     "name": "stdout",
     "output_type": "stream",
     "text": [
      "Model trained\n",
      "Test score is 16277.157743659482\n"
     ]
    }
   ],
   "source": [
    "lr_model.train(df)"
   ],
   "metadata": {
    "collapsed": false,
    "ExecuteTime": {
     "end_time": "2024-01-15T12:37:23.551579Z",
     "start_time": "2024-01-15T12:37:22.726416Z"
    }
   },
   "id": "639b3146d0ad8421"
  },
  {
   "cell_type": "code",
   "execution_count": null,
   "outputs": [],
   "source": [],
   "metadata": {
    "collapsed": false
   },
   "id": "10de658fba808eb5"
  }
 ],
 "metadata": {
  "kernelspec": {
   "display_name": "Python 3",
   "language": "python",
   "name": "python3"
  },
  "language_info": {
   "codemirror_mode": {
    "name": "ipython",
    "version": 2
   },
   "file_extension": ".py",
   "mimetype": "text/x-python",
   "name": "python",
   "nbconvert_exporter": "python",
   "pygments_lexer": "ipython2",
   "version": "2.7.6"
  }
 },
 "nbformat": 4,
 "nbformat_minor": 5
}
