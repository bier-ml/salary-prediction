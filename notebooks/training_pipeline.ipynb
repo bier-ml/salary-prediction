{
 "cells": [
  {
   "cell_type": "code",
   "execution_count": 83,
   "id": "initial_id",
   "metadata": {
    "collapsed": true,
    "ExecuteTime": {
     "end_time": "2024-01-16T11:00:14.454323Z",
     "start_time": "2024-01-16T11:00:14.223509Z"
    }
   },
   "outputs": [
    {
     "name": "stdout",
     "output_type": "stream",
     "text": [
      "The autoreload extension is already loaded. To reload it, use:\n",
      "  %reload_ext autoreload\n"
     ]
    }
   ],
   "source": [
    "import pandas as pd\n",
    "from tqdm import tqdm\n",
    "\n",
    "from core.embedding_models import FastTextEmbeddingModel, EmbeddingModel\n",
    "from core.models import LinearRegressionModel, CatboostRegressionModel\n",
    "\n",
    "tqdm.pandas()\n",
    "\n",
    "%load_ext autoreload\n",
    "%autoreload 2"
   ]
  },
  {
   "cell_type": "code",
   "execution_count": 84,
   "outputs": [
    {
     "data": {
      "text/plain": "         id    custom_position             schedule  salary_from  salary_to  \\\n0  48202096    Сварщик-сборщик  полный рабочий день        60000     120000   \n1  48202097  Сварщик-монтажник  полный рабочий день        60000     120000   \n2  48202098    Слесарь-сборщик  полный рабочий день        60000      80000   \n3  48202356  Грузчик-упаковщик  частичная занятость        30000      35000   \n4  48202357  Грузчик-упаковщик  частичная занятость        30000      35000   \n\n  salary_pay_type  offer_education_id education_name  education_is_base  \\\n0             NaN                   0          любое               True   \n1             NaN                   0          любое               True   \n2             NaN                   0          любое               True   \n3             NaN                   0          любое               True   \n4             NaN                   0          любое               True   \n\n   education_order_num  city_id  \\\n0                    0        2   \n1                    0        2   \n2                    0        2   \n3                    0        1   \n4                    0       57   \n\n                                        list_regions  \\\n0                                                [4]   \n1                                                [4]   \n2                                                [4]   \n3                                                [3]   \n4  [181, 182, 183, 185, 186, 187, 188, 189, 190, ...   \n\n                                         work_skills tags_id  \n0  ['сварочные работы', 'сборка изделий по чертеж...     NaN  \n1  ['монтажные работы', 'строительные работы', 'э...     NaN  \n2  ['работа на фрезерных станках', 'слесарный рем...     NaN  \n3  ['комплектация товара', 'маркировка', 'стрессо...  [6, 9]  \n4  ['маркировка', 'стрессоустойчивость', 'погрузо...  [6, 9]  ",
      "text/html": "<div>\n<style scoped>\n    .dataframe tbody tr th:only-of-type {\n        vertical-align: middle;\n    }\n\n    .dataframe tbody tr th {\n        vertical-align: top;\n    }\n\n    .dataframe thead th {\n        text-align: right;\n    }\n</style>\n<table border=\"1\" class=\"dataframe\">\n  <thead>\n    <tr style=\"text-align: right;\">\n      <th></th>\n      <th>id</th>\n      <th>custom_position</th>\n      <th>schedule</th>\n      <th>salary_from</th>\n      <th>salary_to</th>\n      <th>salary_pay_type</th>\n      <th>offer_education_id</th>\n      <th>education_name</th>\n      <th>education_is_base</th>\n      <th>education_order_num</th>\n      <th>city_id</th>\n      <th>list_regions</th>\n      <th>work_skills</th>\n      <th>tags_id</th>\n    </tr>\n  </thead>\n  <tbody>\n    <tr>\n      <th>0</th>\n      <td>48202096</td>\n      <td>Сварщик-сборщик</td>\n      <td>полный рабочий день</td>\n      <td>60000</td>\n      <td>120000</td>\n      <td>NaN</td>\n      <td>0</td>\n      <td>любое</td>\n      <td>True</td>\n      <td>0</td>\n      <td>2</td>\n      <td>[4]</td>\n      <td>['сварочные работы', 'сборка изделий по чертеж...</td>\n      <td>NaN</td>\n    </tr>\n    <tr>\n      <th>1</th>\n      <td>48202097</td>\n      <td>Сварщик-монтажник</td>\n      <td>полный рабочий день</td>\n      <td>60000</td>\n      <td>120000</td>\n      <td>NaN</td>\n      <td>0</td>\n      <td>любое</td>\n      <td>True</td>\n      <td>0</td>\n      <td>2</td>\n      <td>[4]</td>\n      <td>['монтажные работы', 'строительные работы', 'э...</td>\n      <td>NaN</td>\n    </tr>\n    <tr>\n      <th>2</th>\n      <td>48202098</td>\n      <td>Слесарь-сборщик</td>\n      <td>полный рабочий день</td>\n      <td>60000</td>\n      <td>80000</td>\n      <td>NaN</td>\n      <td>0</td>\n      <td>любое</td>\n      <td>True</td>\n      <td>0</td>\n      <td>2</td>\n      <td>[4]</td>\n      <td>['работа на фрезерных станках', 'слесарный рем...</td>\n      <td>NaN</td>\n    </tr>\n    <tr>\n      <th>3</th>\n      <td>48202356</td>\n      <td>Грузчик-упаковщик</td>\n      <td>частичная занятость</td>\n      <td>30000</td>\n      <td>35000</td>\n      <td>NaN</td>\n      <td>0</td>\n      <td>любое</td>\n      <td>True</td>\n      <td>0</td>\n      <td>1</td>\n      <td>[3]</td>\n      <td>['комплектация товара', 'маркировка', 'стрессо...</td>\n      <td>[6, 9]</td>\n    </tr>\n    <tr>\n      <th>4</th>\n      <td>48202357</td>\n      <td>Грузчик-упаковщик</td>\n      <td>частичная занятость</td>\n      <td>30000</td>\n      <td>35000</td>\n      <td>NaN</td>\n      <td>0</td>\n      <td>любое</td>\n      <td>True</td>\n      <td>0</td>\n      <td>57</td>\n      <td>[181, 182, 183, 185, 186, 187, 188, 189, 190, ...</td>\n      <td>['маркировка', 'стрессоустойчивость', 'погрузо...</td>\n      <td>[6, 9]</td>\n    </tr>\n  </tbody>\n</table>\n</div>"
     },
     "execution_count": 84,
     "metadata": {},
     "output_type": "execute_result"
    }
   ],
   "source": [
    "df = pd.read_csv(\"../data/data_vacancies.csv\")\n",
    "df.head()"
   ],
   "metadata": {
    "collapsed": false,
    "ExecuteTime": {
     "end_time": "2024-01-16T11:00:16.115075Z",
     "start_time": "2024-01-16T11:00:15.131743Z"
    }
   },
   "id": "2c750c4f62a2bf5c"
  },
  {
   "cell_type": "code",
   "execution_count": 85,
   "outputs": [],
   "source": [
    "df[\"salary_mean\"] = (df.salary_from + df.salary_to) / 2\n",
    "df[\"target\"] = df.salary_mean\n",
    "df = df[df.salary_mean < df.salary_mean.quantile(0.95)]\n",
    "\n",
    "cols_to_concat = [\"custom_position\"]\n",
    "df[\"combined_string\"] = df[cols_to_concat].agg(\"\\n\".join, axis=1)\n"
   ],
   "metadata": {
    "collapsed": false,
    "ExecuteTime": {
     "end_time": "2024-01-16T11:00:18.242178Z",
     "start_time": "2024-01-16T11:00:18.172275Z"
    }
   },
   "id": "f0e89904e691359e"
  },
  {
   "cell_type": "code",
   "execution_count": 86,
   "outputs": [],
   "source": [
    "dataset = df.iloc[:]\n",
    "embedding_model = FastTextEmbeddingModel()\n",
    "# embedding_model = EmbeddingModel()"
   ],
   "metadata": {
    "collapsed": false,
    "ExecuteTime": {
     "end_time": "2024-01-16T11:01:25.473101Z",
     "start_time": "2024-01-16T11:00:21.231116Z"
    }
   },
   "id": "1fe23c488fb3cfdd"
  },
  {
   "cell_type": "code",
   "execution_count": 87,
   "outputs": [],
   "source": [
    "lr_model = LinearRegressionModel(embedding_model=embedding_model)\n"
   ],
   "metadata": {
    "collapsed": false,
    "ExecuteTime": {
     "end_time": "2024-01-16T11:01:28.149254Z",
     "start_time": "2024-01-16T11:01:28.011203Z"
    }
   },
   "id": "e6f357f0d61fc27f"
  },
  {
   "cell_type": "code",
   "execution_count": 88,
   "outputs": [
    {
     "name": "stderr",
     "output_type": "stream",
     "text": [
      "100%|██████████| 18468/18468 [00:00<00:00, 36190.55it/s]\n"
     ]
    }
   ],
   "source": [
    "dataset.loc[:, \"emb\"] = dataset[\"combined_string\"].progress_apply(lambda x: embedding_model.generate(x))\n"
   ],
   "metadata": {
    "collapsed": false,
    "ExecuteTime": {
     "end_time": "2024-01-16T11:01:29.344096Z",
     "start_time": "2024-01-16T11:01:28.800462Z"
    }
   },
   "id": "6b4b2f225ee708a3"
  },
  {
   "cell_type": "code",
   "execution_count": 89,
   "outputs": [
    {
     "data": {
      "text/plain": "(300,)"
     },
     "execution_count": 89,
     "metadata": {},
     "output_type": "execute_result"
    }
   ],
   "source": [
    "dataset[\"emb\"].iloc[0].shape"
   ],
   "metadata": {
    "collapsed": false,
    "ExecuteTime": {
     "end_time": "2024-01-16T11:01:30.974783Z",
     "start_time": "2024-01-16T11:01:30.938793Z"
    }
   },
   "id": "17316accea33bbcb"
  },
  {
   "cell_type": "code",
   "execution_count": 90,
   "outputs": [
    {
     "name": "stdout",
     "output_type": "stream",
     "text": [
      "Model trained\n",
      "Test score is 16277.157743659482\n"
     ]
    }
   ],
   "source": [
    "lr_model.train(dataset)"
   ],
   "metadata": {
    "collapsed": false,
    "ExecuteTime": {
     "end_time": "2024-01-16T11:01:32.597258Z",
     "start_time": "2024-01-16T11:01:31.984334Z"
    }
   },
   "id": "639b3146d0ad8421"
  },
  {
   "cell_type": "code",
   "execution_count": 91,
   "outputs": [
    {
     "name": "stdout",
     "output_type": "stream",
     "text": [
      "Model saved at ../data/linreg_fasttext.pkl\n"
     ]
    }
   ],
   "source": [
    "lr_model.save_model(\"../data/linreg_fasttext.pkl\")\n"
   ],
   "metadata": {
    "collapsed": false,
    "ExecuteTime": {
     "end_time": "2024-01-16T11:01:58.575199Z",
     "start_time": "2024-01-16T11:01:58.514608Z"
    }
   },
   "id": "1e6c5e984a00185c"
  },
  {
   "cell_type": "code",
   "execution_count": 92,
   "outputs": [],
   "source": [
    "cb_model = CatboostRegressionModel(embedding_model=embedding_model)\n"
   ],
   "metadata": {
    "collapsed": false,
    "ExecuteTime": {
     "end_time": "2024-01-16T11:02:02.986422Z",
     "start_time": "2024-01-16T11:02:02.889915Z"
    }
   },
   "id": "10de658fba808eb5"
  },
  {
   "cell_type": "code",
   "execution_count": 93,
   "outputs": [
    {
     "name": "stdout",
     "output_type": "stream",
     "text": [
      "Learning rate set to 0.062656\n",
      "0:\tlearn: 26545.2642466\ttotal: 31.5ms\tremaining: 31.4s\n",
      "100:\tlearn: 19490.3459576\ttotal: 1.28s\tremaining: 11.4s\n",
      "200:\tlearn: 18005.7842333\ttotal: 2.53s\tremaining: 10.1s\n",
      "300:\tlearn: 16894.1840994\ttotal: 3.72s\tremaining: 8.63s\n",
      "400:\tlearn: 16115.8247947\ttotal: 4.96s\tremaining: 7.4s\n",
      "500:\tlearn: 15548.9084739\ttotal: 6.26s\tremaining: 6.24s\n",
      "600:\tlearn: 15090.3833873\ttotal: 7.42s\tremaining: 4.92s\n",
      "700:\tlearn: 14724.8946470\ttotal: 8.56s\tremaining: 3.65s\n",
      "800:\tlearn: 14430.0173454\ttotal: 9.7s\tremaining: 2.41s\n",
      "900:\tlearn: 14181.4079883\ttotal: 10.8s\tremaining: 1.19s\n",
      "999:\tlearn: 13981.6242004\ttotal: 11.9s\tremaining: 0us\n",
      "Model trained\n",
      "Test score is 12499.325032788483\n"
     ]
    }
   ],
   "source": [
    "cb_model.train(dataset, metric_period=100)"
   ],
   "metadata": {
    "collapsed": false,
    "ExecuteTime": {
     "end_time": "2024-01-16T11:02:15.964987Z",
     "start_time": "2024-01-16T11:02:03.694530Z"
    }
   },
   "id": "b373898e14fb687d"
  },
  {
   "cell_type": "code",
   "execution_count": 94,
   "outputs": [
    {
     "name": "stdout",
     "output_type": "stream",
     "text": [
      "Model saved at ../data/catboost_fasttext.pkl\n"
     ]
    }
   ],
   "source": [
    "cb_model.save_model(\"../data/catboost_fasttext.pkl\")\n"
   ],
   "metadata": {
    "collapsed": false,
    "ExecuteTime": {
     "end_time": "2024-01-16T11:02:17.522664Z",
     "start_time": "2024-01-16T11:02:17.472470Z"
    }
   },
   "id": "472890442c66528e"
  },
  {
   "cell_type": "code",
   "execution_count": null,
   "outputs": [],
   "source": [],
   "metadata": {
    "collapsed": false
   },
   "id": "583c7715297cd31c"
  }
 ],
 "metadata": {
  "kernelspec": {
   "display_name": "Python 3",
   "language": "python",
   "name": "python3"
  },
  "language_info": {
   "codemirror_mode": {
    "name": "ipython",
    "version": 2
   },
   "file_extension": ".py",
   "mimetype": "text/x-python",
   "name": "python",
   "nbconvert_exporter": "python",
   "pygments_lexer": "ipython2",
   "version": "2.7.6"
  }
 },
 "nbformat": 4,
 "nbformat_minor": 5
}
