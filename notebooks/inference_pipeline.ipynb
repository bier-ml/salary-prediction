{
 "cells": [
  {
   "cell_type": "code",
   "id": "initial_id",
   "metadata": {
    "collapsed": true,
    "ExecuteTime": {
     "end_time": "2024-06-06T18:08:55.708917Z",
     "start_time": "2024-06-06T18:08:20.333462Z"
    }
   },
   "source": [
    "from core.embedding_models import EmbeddingModel, FastTextEmbeddingModel\n",
    "fast_text_embedding = FastTextEmbeddingModel()\n"
   ],
   "outputs": [],
   "execution_count": 2
  },
  {
   "metadata": {
    "ExecuteTime": {
     "end_time": "2024-06-06T18:10:03.020052Z",
     "start_time": "2024-06-06T18:10:02.615854Z"
    }
   },
   "cell_type": "code",
   "source": [
    "from core import ROOT_PATH\n",
    "from core.models.clustering_model import StackedModels\n",
    "\n",
    "params = {\n",
    "    \"iterations\": 10,\n",
    "    \"learning_rate\": 0.07060926866932606,\n",
    "    \"depth\": 10,\n",
    "    \"subsample\": 0.710251337503286,\n",
    "    \"colsample_bylevel\": 0.6883135875379539,\n",
    "    \"min_data_in_leaf\": 1,\n",
    "}\n",
    "\n",
    "sample_model = StackedModels()\n",
    "sample_model = sample_model.load_model(ROOT_PATH / \"checkpoints/stacked_model.pkl\")\n"
   ],
   "id": "fff7e03eb7d58ac4",
   "outputs": [
    {
     "name": "stdout",
     "output_type": "stream",
     "text": [
      "Model successfully loaded\n"
     ]
    }
   ],
   "execution_count": 3
  },
  {
   "metadata": {
    "ExecuteTime": {
     "end_time": "2024-06-06T18:12:00.565017Z",
     "start_time": "2024-06-06T18:12:00.561854Z"
    }
   },
   "cell_type": "code",
   "source": "sample_embedding = fast_text_embedding.generate(\"грузчик\")",
   "id": "e5f7a20ae355e25d",
   "outputs": [],
   "execution_count": 7
  },
  {
   "metadata": {
    "ExecuteTime": {
     "end_time": "2024-06-06T18:13:15.246920Z",
     "start_time": "2024-06-06T18:13:15.244401Z"
    }
   },
   "cell_type": "code",
   "source": "sample_model.predict(sample_embedding, 1)\n",
   "id": "85499a2749dc2a81",
   "outputs": [
    {
     "data": {
      "text/plain": [
       "44089.7017212415"
      ]
     },
     "execution_count": 9,
     "metadata": {},
     "output_type": "execute_result"
    }
   ],
   "execution_count": 9
  },
  {
   "metadata": {},
   "cell_type": "code",
   "outputs": [],
   "execution_count": null,
   "source": "",
   "id": "496c07443a65e283"
  }
 ],
 "metadata": {
  "kernelspec": {
   "display_name": "Python 3",
   "language": "python",
   "name": "python3"
  },
  "language_info": {
   "codemirror_mode": {
    "name": "ipython",
    "version": 2
   },
   "file_extension": ".py",
   "mimetype": "text/x-python",
   "name": "python",
   "nbconvert_exporter": "python",
   "pygments_lexer": "ipython2",
   "version": "2.7.6"
  }
 },
 "nbformat": 4,
 "nbformat_minor": 5
}
