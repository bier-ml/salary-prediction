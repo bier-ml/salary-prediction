{
 "cells": [
  {
   "cell_type": "code",
   "id": "initial_id",
   "metadata": {
    "collapsed": true,
    "ExecuteTime": {
     "end_time": "2024-06-06T19:05:06.529590Z",
     "start_time": "2024-06-06T19:05:06.493748Z"
    }
   },
   "source": [
    "%load_ext autoreload\n",
    "%autoreload 2\n",
    "\n",
    "from core.embedding_models import EmbeddingModel, FastTextEmbeddingModel\n",
    "from core.models.clustering_model import ClusteringModel\n",
    "from core import ROOT_PATH\n",
    "from core.models.clustering_model import StackedModels"
   ],
   "outputs": [
    {
     "name": "stdout",
     "output_type": "stream",
     "text": [
      "The autoreload extension is already loaded. To reload it, use:\n",
      "  %reload_ext autoreload\n"
     ]
    }
   ],
   "execution_count": 10
  },
  {
   "metadata": {
    "ExecuteTime": {
     "end_time": "2024-06-06T19:05:43.516243Z",
     "start_time": "2024-06-06T19:05:07.045342Z"
    }
   },
   "cell_type": "code",
   "source": "fast_text_embedding = FastTextEmbeddingModel()\n",
   "id": "2b4054752cbf60d0",
   "outputs": [],
   "execution_count": 11
  },
  {
   "metadata": {
    "ExecuteTime": {
     "end_time": "2024-06-06T19:05:43.547419Z",
     "start_time": "2024-06-06T19:05:43.517422Z"
    }
   },
   "cell_type": "code",
   "source": [
    "clustering_model = ClusteringModel()\n",
    "clustering_model = clustering_model.load_model(ROOT_PATH / \"checkpoints/clustering_model_fasttext.pkl\")\n"
   ],
   "id": "2102c9d91fa8a975",
   "outputs": [
    {
     "name": "stdout",
     "output_type": "stream",
     "text": [
      "Model successfully loaded\n"
     ]
    }
   ],
   "execution_count": 12
  },
  {
   "metadata": {
    "ExecuteTime": {
     "end_time": "2024-06-06T19:05:43.573180Z",
     "start_time": "2024-06-06T19:05:43.548021Z"
    }
   },
   "cell_type": "code",
   "source": [
    "params = {\n",
    "    \"iterations\": 10,\n",
    "    \"learning_rate\": 0.07060926866932606,\n",
    "    \"depth\": 10,\n",
    "    \"subsample\": 0.710251337503286,\n",
    "    \"colsample_bylevel\": 0.6883135875379539,\n",
    "    \"min_data_in_leaf\": 1,\n",
    "}\n",
    "\n",
    "salary_prediction_model = StackedModels(clustering_model=clustering_model)\n",
    "sample_model = salary_prediction_model.load_model(ROOT_PATH / \"checkpoints/stacked_model_fasttext.pkl\")\n"
   ],
   "id": "fff7e03eb7d58ac4",
   "outputs": [
    {
     "name": "stdout",
     "output_type": "stream",
     "text": [
      "Model successfully loaded\n"
     ]
    }
   ],
   "execution_count": 13
  },
  {
   "metadata": {
    "ExecuteTime": {
     "end_time": "2024-06-06T19:05:43.595888Z",
     "start_time": "2024-06-06T19:05:43.574130Z"
    }
   },
   "cell_type": "code",
   "source": "sample_embedding = fast_text_embedding.generate(\"грузчик\")",
   "id": "e5f7a20ae355e25d",
   "outputs": [],
   "execution_count": 14
  },
  {
   "metadata": {
    "ExecuteTime": {
     "end_time": "2024-06-06T19:05:43.620525Z",
     "start_time": "2024-06-06T19:05:43.596452Z"
    }
   },
   "cell_type": "code",
   "source": "sample_model.predict(sample_embedding)\n",
   "id": "85499a2749dc2a81",
   "outputs": [
    {
     "data": {
      "text/plain": [
       "53516.71412900522"
      ]
     },
     "execution_count": 15,
     "metadata": {},
     "output_type": "execute_result"
    }
   ],
   "execution_count": 15
  },
  {
   "metadata": {},
   "cell_type": "code",
   "outputs": [],
   "execution_count": null,
   "source": "",
   "id": "496c07443a65e283"
  }
 ],
 "metadata": {
  "kernelspec": {
   "display_name": "Python 3",
   "language": "python",
   "name": "python3"
  },
  "language_info": {
   "codemirror_mode": {
    "name": "ipython",
    "version": 2
   },
   "file_extension": ".py",
   "mimetype": "text/x-python",
   "name": "python",
   "nbconvert_exporter": "python",
   "pygments_lexer": "ipython2",
   "version": "2.7.6"
  }
 },
 "nbformat": 4,
 "nbformat_minor": 5
}
