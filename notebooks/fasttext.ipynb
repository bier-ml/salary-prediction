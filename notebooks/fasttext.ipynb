{
 "cells": [
  {
   "cell_type": "code",
   "execution_count": 1,
   "id": "initial_id",
   "metadata": {
    "collapsed": true,
    "ExecuteTime": {
     "end_time": "2023-12-14T12:03:01.886720Z",
     "start_time": "2023-12-14T12:03:01.402946Z"
    }
   },
   "outputs": [],
   "source": [
    "import numpy as np\n",
    "import pandas as pd\n"
   ]
  },
  {
   "cell_type": "code",
   "execution_count": 2,
   "outputs": [],
   "source": [
    "from gensim.models.fasttext import FastText\n"
   ],
   "metadata": {
    "collapsed": false,
    "ExecuteTime": {
     "end_time": "2023-12-14T12:03:02.514550Z",
     "start_time": "2023-12-14T12:03:01.887496Z"
    }
   },
   "id": "1faf8f4fb6dddf1d"
  },
  {
   "cell_type": "code",
   "execution_count": 3,
   "outputs": [
    {
     "name": "stderr",
     "output_type": "stream",
     "text": [
      "/var/folders/jq/byk1x73j6pngqgl6my8tgyhm0000gn/T/ipykernel_10148/911186441.py:1: DeprecationWarning: Call to deprecated `load_fasttext_format` (use load_facebook_vectors (to use pretrained embeddings) or load_facebook_model (to continue training with the loaded full model, more RAM) instead).\n",
      "  model = FastText.load_fasttext_format('../data/cc.ru.300.bin')\n"
     ]
    },
    {
     "name": "stdout",
     "output_type": "stream",
     "text": [
      "[-0.04010157 -0.01939676  0.0123472   0.00420404 -0.14823544 -0.14018615\n",
      "  0.10929612 -0.07573465  0.09767959  0.21756363 -0.07176124  0.08621705\n",
      "  0.15654308  0.03002805 -0.0368893   0.05824615  0.11482157  0.02317262\n",
      "  0.04539815 -0.0355209  -0.03603294 -0.1221268  -0.06845482  0.04976111\n",
      "  0.04596197  0.04964927  0.01915357  0.04100516  0.01401335 -0.08294429\n",
      "  0.16267993  0.06430586  0.01752418 -0.06838899  0.06295058 -0.04523483\n",
      " -0.13037588 -0.2482847   0.01887992 -0.16284476 -0.09788799  0.06642605\n",
      " -0.10626589  0.04866524  0.04178581 -0.02333352 -0.2725895   0.18531033\n",
      "  0.19238655  0.13830474  0.11559307  0.13343623  0.22933286 -0.11461251\n",
      "  0.14354116  0.03846733  0.04947425 -0.07110243 -0.01087112  0.08804761\n",
      " -0.06343422  0.08565489 -0.15966357 -0.07254395  0.1130814  -0.00968511\n",
      "  0.04944057 -0.16401084 -0.03669032 -0.00898871 -0.10663027 -0.02158327\n",
      "  0.08737282 -0.01769257 -0.03525456  0.08112386 -0.17629416  0.07922973\n",
      "  0.08331937 -0.06936362 -0.14728579 -0.16582023 -0.06826511 -0.00879896\n",
      " -0.08603729  0.21575415 -0.3005731   0.05713171  0.12443303  0.02995846\n",
      "  0.07646848 -0.01299724 -0.07263537  0.14898129 -0.19551206 -0.06121328\n",
      " -0.08180934  0.11414303  0.04135181 -0.05873711 -0.06715062  0.13310552\n",
      " -0.02028708  0.03845155 -0.10854033 -0.05241784  0.08657111 -0.01970928\n",
      " -0.13986635  0.07460441 -0.29325497  0.05755422 -0.02830631 -0.01508785\n",
      "  0.14336015  0.11560334 -0.00358849 -0.12821245  0.11640577  0.00089885\n",
      " -0.08648165  0.18074523 -0.08769182 -0.04045654  0.17071511 -0.10872518\n",
      " -0.01559093  0.03991812  0.15465206 -0.05653346  0.20004395  0.07201539\n",
      " -0.01086115  0.11068483 -0.06841932  0.15492947  0.35712612 -0.05305143\n",
      "  0.36752725 -0.3399758  -0.24397443  0.00973725  0.2635132   0.01868193\n",
      " -0.11360987 -0.04182076  0.17159706 -0.05967255 -0.03929925 -0.1790775\n",
      "  0.12431526  0.06945711 -0.15763754  0.03086294 -0.00403546 -0.0276476\n",
      "  0.07413802  0.14619383  0.19357628 -0.13892332 -0.11720908  0.05278897\n",
      " -0.6034793  -0.04786326 -0.10697183  0.10864367 -0.08092637  0.1556417\n",
      " -0.08937117  0.05222159 -0.12337117 -0.0191052  -0.09235581 -0.05298534\n",
      "  0.01724871 -0.08529934  0.09560719 -0.07922742  0.25302827  0.08845024\n",
      "  0.00077382  0.10980777  0.01971076 -0.19271097  0.06799331 -0.1406621\n",
      " -0.01523294 -0.01874568  0.08209436  0.09353962 -0.2033026   0.07763778\n",
      " -0.00701193  0.04134252  0.11621854  0.09681591  0.19794922 -0.13313253\n",
      " -0.02425947  0.06160912 -0.05526329  0.23453054  0.04096884 -0.02998921\n",
      " -0.03359097 -0.00684002  0.01319715  0.21040681 -0.16639413  0.18385105\n",
      " -0.01096125  0.04014203 -0.0660281  -0.03799983  0.12035625 -0.21779023\n",
      "  0.09339422 -0.02894361  0.11215246 -0.08677302 -0.04870903  0.12348028\n",
      "  0.09492841  0.02123641  0.16885635 -0.07327995 -0.21800287  0.07159425\n",
      "  0.01965256 -0.03022145  0.03330492  0.0210833   0.01789273  0.01535404\n",
      "  0.21108502 -0.20715423 -0.00476368 -0.10279278  0.00601621  0.01132536\n",
      " -0.05641655  0.15818587  0.01698962  0.05963773  0.03483541 -0.12031879\n",
      "  0.0780047  -0.0070044  -0.05370992 -0.14594178  0.05254872  0.03070085\n",
      " -0.03382464  0.12863669  0.04409178 -0.07577838 -0.16220422  0.06112084\n",
      "  0.06737367 -0.235849   -0.19733031  0.04523642 -0.05979398 -0.12870073\n",
      " -0.01369455 -0.1605226   0.29223588  0.0215651   0.0068474  -0.0487224\n",
      "  0.07910653  0.04004063  0.20065294  0.02982082  0.1280528   0.03859052\n",
      "  0.16425009 -0.1711479  -0.13350606  0.13315669 -0.13067576  0.08819869\n",
      " -0.09591143  0.11706154 -0.16483013  0.06267059 -0.11887899  0.0932312\n",
      "  0.14138682  0.1604734   0.02994992 -0.06658785  0.00986555 -0.09261342\n",
      "  0.0531594  -0.11500832  0.01637765 -0.05594569  0.15067177 -0.11360576]\n"
     ]
    }
   ],
   "source": [
    "model = FastText.load_fasttext_format('../data/cc.ru.300.bin')\n",
    "print(model.wv['мир'])"
   ],
   "metadata": {
    "collapsed": false,
    "ExecuteTime": {
     "end_time": "2023-12-14T12:04:25.216398Z",
     "start_time": "2023-12-14T12:03:17.153231Z"
    }
   },
   "id": "26fe23e1c4b1bf45"
  },
  {
   "cell_type": "code",
   "execution_count": 4,
   "outputs": [],
   "source": [
    "def normalize_vector(vec):\n",
    "    norm = np.sqrt(np.sum(vec**2))\n",
    "    if not norm==0:\n",
    "        return vec/norm\n",
    "    else:\n",
    "        return vec\n"
   ],
   "metadata": {
    "collapsed": false,
    "ExecuteTime": {
     "end_time": "2023-12-14T12:04:25.225660Z",
     "start_time": "2023-12-14T12:04:25.220981Z"
    }
   },
   "id": "6a71936fdaef720c"
  },
  {
   "cell_type": "code",
   "execution_count": 5,
   "outputs": [],
   "source": [
    "df = pd.read_csv('../data/data_vacancies.csv')\n"
   ],
   "metadata": {
    "collapsed": false,
    "ExecuteTime": {
     "end_time": "2023-12-14T12:04:26.109970Z",
     "start_time": "2023-12-14T12:04:25.233308Z"
    }
   },
   "id": "81a3995908e81acf"
  },
  {
   "cell_type": "code",
   "execution_count": 6,
   "outputs": [],
   "source": [
    "def get_sentence_vector(s: str) -> np.ndarray:\n",
    "    return np.mean([model.wv[s_i] for s_i in s.split()\n",
    "    ], axis=0\n",
    "    )\n",
    "df['emb'] = df.custom_position.apply(lambda x: get_sentence_vector(x))\n"
   ],
   "metadata": {
    "collapsed": false,
    "ExecuteTime": {
     "end_time": "2023-12-14T12:04:26.595946Z",
     "start_time": "2023-12-14T12:04:26.116280Z"
    }
   },
   "id": "84d9ecfdf3a1ff09"
  },
  {
   "cell_type": "code",
   "execution_count": 7,
   "outputs": [
    {
     "data": {
      "text/plain": "0    90000.0\n1    90000.0\n2    70000.0\n3    32500.0\n4    32500.0\nName: salary_mean, dtype: float64"
     },
     "execution_count": 7,
     "metadata": {},
     "output_type": "execute_result"
    }
   ],
   "source": [
    "df['salary_mean'] = (df.salary_from + df.salary_to) / 2\n",
    "df.salary_mean.head()\n"
   ],
   "metadata": {
    "collapsed": false,
    "ExecuteTime": {
     "end_time": "2023-12-14T12:04:28.630771Z",
     "start_time": "2023-12-14T12:04:28.616938Z"
    }
   },
   "id": "1386e1891ef588ac"
  },
  {
   "cell_type": "code",
   "execution_count": 8,
   "outputs": [],
   "source": [
    "X, y = df[['emb']], df.salary_mean"
   ],
   "metadata": {
    "collapsed": false,
    "ExecuteTime": {
     "end_time": "2023-12-14T12:04:38.376225Z",
     "start_time": "2023-12-14T12:04:38.367335Z"
    }
   },
   "id": "e08ceadc83f4563f"
  },
  {
   "cell_type": "code",
   "execution_count": 9,
   "outputs": [],
   "source": [
    "from sklearn.linear_model import LinearRegression\n",
    "from sklearn.model_selection import train_test_split\n",
    "from sklearn.metrics import mean_absolute_error\n",
    "\n",
    "X_train, X_test, y_train, y_test = train_test_split(X, y, test_size=0.2, random_state=42)\n",
    "\n",
    "# select a model and train it\n",
    "model = LinearRegression()\n"
   ],
   "metadata": {
    "collapsed": false,
    "ExecuteTime": {
     "end_time": "2023-12-14T12:05:32.045015Z",
     "start_time": "2023-12-14T12:05:26.702552Z"
    }
   },
   "id": "8066478ea7e87b97"
  },
  {
   "cell_type": "code",
   "execution_count": null,
   "outputs": [],
   "source": [
    "model.fit(X_train, y_train)\n",
    "\n",
    "y_pred = model.predict(X_test)\n",
    "\n",
    "mse = mean_absolute_error(y_test, y_pred)\n",
    "\n",
    "print('The mean squared error is ', mse)"
   ],
   "metadata": {
    "collapsed": false
   },
   "id": "f3747b2c9bf586c1"
  },
  {
   "cell_type": "code",
   "execution_count": null,
   "outputs": [],
   "source": [],
   "metadata": {
    "collapsed": false
   },
   "id": "b29058acb848d124"
  }
 ],
 "metadata": {
  "kernelspec": {
   "display_name": "Python 3",
   "language": "python",
   "name": "python3"
  },
  "language_info": {
   "codemirror_mode": {
    "name": "ipython",
    "version": 2
   },
   "file_extension": ".py",
   "mimetype": "text/x-python",
   "name": "python",
   "nbconvert_exporter": "python",
   "pygments_lexer": "ipython2",
   "version": "2.7.6"
  }
 },
 "nbformat": 4,
 "nbformat_minor": 5
}
