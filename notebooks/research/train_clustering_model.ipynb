{
 "cells": [
  {
   "cell_type": "code",
   "id": "initial_id",
   "metadata": {
    "collapsed": true,
    "ExecuteTime": {
     "end_time": "2024-06-06T18:51:40.633886Z",
     "start_time": "2024-06-06T18:51:38.657311Z"
    }
   },
   "source": [
    "%load_ext autoreload\n",
    "%autoreload 2\n",
    "\n",
    "from pathlib import Path\n",
    "\n",
    "import numpy as np\n",
    "import pandas as pd\n",
    "from tqdm.auto import tqdm\n",
    "\n",
    "from core import ROOT_PATH\n",
    "from core.embedding_models import EmbeddingModel, FastTextEmbeddingModel\n",
    "from core.models.clustering_model import ClusteringModel\n",
    "\n",
    "tqdm.pandas()"
   ],
   "outputs": [],
   "execution_count": 1
  },
  {
   "metadata": {
    "ExecuteTime": {
     "end_time": "2024-06-06T18:51:42.156625Z",
     "start_time": "2024-06-06T18:51:42.078057Z"
    }
   },
   "cell_type": "code",
   "source": [
    "data_path = Path(\"data/data_vacancies_processed_1k.csv\")\n",
    "df = pd.read_csv(ROOT_PATH / data_path, index_col=0)\n",
    "df[\"work_skills\"] = df.work_skills.apply(eval)\n",
    "df.head()"
   ],
   "id": "d07978e54a587b76",
   "outputs": [
    {
     "data": {
      "text/plain": [
       "         id    custom_position             schedule  salary_from  salary_to  \\\n",
       "0  48202096    Сварщик-сборщик  полный рабочий день        60000     120000   \n",
       "1  48202097  Сварщик-монтажник  полный рабочий день        60000     120000   \n",
       "2  48202098    Слесарь-сборщик  полный рабочий день        60000      80000   \n",
       "3  48202356  Грузчик-упаковщик  частичная занятость        30000      35000   \n",
       "4  48202357  Грузчик-упаковщик  частичная занятость        30000      35000   \n",
       "\n",
       "   offer_education_id education_name  education_is_base  education_order_num  \\\n",
       "0                   0          любое               True                    0   \n",
       "1                   0          любое               True                    0   \n",
       "2                   0          любое               True                    0   \n",
       "3                   0          любое               True                    0   \n",
       "4                   0          любое               True                    0   \n",
       "\n",
       "   city_id                                       list_regions  \\\n",
       "0        2                                                [4]   \n",
       "1        2                                                [4]   \n",
       "2        2                                                [4]   \n",
       "3        1                                                [3]   \n",
       "4       57  [181, 182, 183, 185, 186, 187, 188, 189, 190, ...   \n",
       "\n",
       "                                         work_skills tags_id  \n",
       "0  [сварочные работы, сборка изделий по чертежам,...     NaN  \n",
       "1  [монтажные работы, строительные работы, электр...     NaN  \n",
       "2  [работа на фрезерных станках, слесарный ремонт...     NaN  \n",
       "3  [комплектация товара, маркировка, стрессоустой...  [6, 9]  \n",
       "4  [маркировка, стрессоустойчивость, погрузочно-р...  [6, 9]  "
      ],
      "text/html": [
       "<div>\n",
       "<style scoped>\n",
       "    .dataframe tbody tr th:only-of-type {\n",
       "        vertical-align: middle;\n",
       "    }\n",
       "\n",
       "    .dataframe tbody tr th {\n",
       "        vertical-align: top;\n",
       "    }\n",
       "\n",
       "    .dataframe thead th {\n",
       "        text-align: right;\n",
       "    }\n",
       "</style>\n",
       "<table border=\"1\" class=\"dataframe\">\n",
       "  <thead>\n",
       "    <tr style=\"text-align: right;\">\n",
       "      <th></th>\n",
       "      <th>id</th>\n",
       "      <th>custom_position</th>\n",
       "      <th>schedule</th>\n",
       "      <th>salary_from</th>\n",
       "      <th>salary_to</th>\n",
       "      <th>offer_education_id</th>\n",
       "      <th>education_name</th>\n",
       "      <th>education_is_base</th>\n",
       "      <th>education_order_num</th>\n",
       "      <th>city_id</th>\n",
       "      <th>list_regions</th>\n",
       "      <th>work_skills</th>\n",
       "      <th>tags_id</th>\n",
       "    </tr>\n",
       "  </thead>\n",
       "  <tbody>\n",
       "    <tr>\n",
       "      <th>0</th>\n",
       "      <td>48202096</td>\n",
       "      <td>Сварщик-сборщик</td>\n",
       "      <td>полный рабочий день</td>\n",
       "      <td>60000</td>\n",
       "      <td>120000</td>\n",
       "      <td>0</td>\n",
       "      <td>любое</td>\n",
       "      <td>True</td>\n",
       "      <td>0</td>\n",
       "      <td>2</td>\n",
       "      <td>[4]</td>\n",
       "      <td>[сварочные работы, сборка изделий по чертежам,...</td>\n",
       "      <td>NaN</td>\n",
       "    </tr>\n",
       "    <tr>\n",
       "      <th>1</th>\n",
       "      <td>48202097</td>\n",
       "      <td>Сварщик-монтажник</td>\n",
       "      <td>полный рабочий день</td>\n",
       "      <td>60000</td>\n",
       "      <td>120000</td>\n",
       "      <td>0</td>\n",
       "      <td>любое</td>\n",
       "      <td>True</td>\n",
       "      <td>0</td>\n",
       "      <td>2</td>\n",
       "      <td>[4]</td>\n",
       "      <td>[монтажные работы, строительные работы, электр...</td>\n",
       "      <td>NaN</td>\n",
       "    </tr>\n",
       "    <tr>\n",
       "      <th>2</th>\n",
       "      <td>48202098</td>\n",
       "      <td>Слесарь-сборщик</td>\n",
       "      <td>полный рабочий день</td>\n",
       "      <td>60000</td>\n",
       "      <td>80000</td>\n",
       "      <td>0</td>\n",
       "      <td>любое</td>\n",
       "      <td>True</td>\n",
       "      <td>0</td>\n",
       "      <td>2</td>\n",
       "      <td>[4]</td>\n",
       "      <td>[работа на фрезерных станках, слесарный ремонт...</td>\n",
       "      <td>NaN</td>\n",
       "    </tr>\n",
       "    <tr>\n",
       "      <th>3</th>\n",
       "      <td>48202356</td>\n",
       "      <td>Грузчик-упаковщик</td>\n",
       "      <td>частичная занятость</td>\n",
       "      <td>30000</td>\n",
       "      <td>35000</td>\n",
       "      <td>0</td>\n",
       "      <td>любое</td>\n",
       "      <td>True</td>\n",
       "      <td>0</td>\n",
       "      <td>1</td>\n",
       "      <td>[3]</td>\n",
       "      <td>[комплектация товара, маркировка, стрессоустой...</td>\n",
       "      <td>[6, 9]</td>\n",
       "    </tr>\n",
       "    <tr>\n",
       "      <th>4</th>\n",
       "      <td>48202357</td>\n",
       "      <td>Грузчик-упаковщик</td>\n",
       "      <td>частичная занятость</td>\n",
       "      <td>30000</td>\n",
       "      <td>35000</td>\n",
       "      <td>0</td>\n",
       "      <td>любое</td>\n",
       "      <td>True</td>\n",
       "      <td>0</td>\n",
       "      <td>57</td>\n",
       "      <td>[181, 182, 183, 185, 186, 187, 188, 189, 190, ...</td>\n",
       "      <td>[маркировка, стрессоустойчивость, погрузочно-р...</td>\n",
       "      <td>[6, 9]</td>\n",
       "    </tr>\n",
       "  </tbody>\n",
       "</table>\n",
       "</div>"
      ]
     },
     "execution_count": 2,
     "metadata": {},
     "output_type": "execute_result"
    }
   ],
   "execution_count": 2
  },
  {
   "metadata": {
    "ExecuteTime": {
     "end_time": "2024-06-06T18:52:16.202609Z",
     "start_time": "2024-06-06T18:51:42.879054Z"
    }
   },
   "cell_type": "code",
   "source": [
    "fasttext_model = FastTextEmbeddingModel()\n",
    "hf_model = EmbeddingModel()"
   ],
   "id": "dc9411f89343e64e",
   "outputs": [],
   "execution_count": 3
  },
  {
   "metadata": {
    "ExecuteTime": {
     "end_time": "2024-06-06T18:52:18.841227Z",
     "start_time": "2024-06-06T18:52:18.754815Z"
    }
   },
   "cell_type": "code",
   "source": [
    "unique_skills = df.work_skills.explode().unique()\n",
    "unique_skills_embeddings_fasttext = {\n",
    "    k: fasttext_model.generate(k) for k in tqdm(unique_skills)\n",
    "}\n",
    "# unique_skills_embeddings_hf = {k: hf_model.generate(k) for k in tqdm(unique_skills)}"
   ],
   "id": "a40a23cf2e93b261",
   "outputs": [
    {
     "data": {
      "text/plain": [
       "  0%|          | 0/896 [00:00<?, ?it/s]"
      ],
      "application/vnd.jupyter.widget-view+json": {
       "version_major": 2,
       "version_minor": 0,
       "model_id": "e92a1d5eaba142f894f6ad20cc1651b4"
      }
     },
     "metadata": {},
     "output_type": "display_data"
    }
   ],
   "execution_count": 4
  },
  {
   "metadata": {
    "ExecuteTime": {
     "end_time": "2024-06-06T18:52:19.795724Z",
     "start_time": "2024-06-06T18:52:19.745293Z"
    }
   },
   "cell_type": "code",
   "source": [
    "embeddings = (\n",
    "    df.work_skills.apply(lambda x: list(map(unique_skills_embeddings_fasttext.get, x)))\n",
    "    .apply(lambda x: np.mean(x, axis=0))\n",
    "    .tolist()\n",
    ")\n",
    "embeddings = np.array(embeddings)"
   ],
   "id": "d845ff6549ecfb38",
   "outputs": [],
   "execution_count": 5
  },
  {
   "metadata": {
    "ExecuteTime": {
     "end_time": "2024-06-06T18:52:22.837738Z",
     "start_time": "2024-06-06T18:52:21.539213Z"
    }
   },
   "cell_type": "code",
   "source": [
    "model = ClusteringModel()\n",
    "model = model.train(embeddings)"
   ],
   "id": "49a9391399bb32b1",
   "outputs": [
    {
     "name": "stderr",
     "output_type": "stream",
     "text": [
      "/Users/Konstantin.Grotov/Library/Caches/pypoetry/virtualenvs/rabota-ru-fYDRv1HV-py3.11/lib/python3.11/site-packages/sklearn/cluster/_kmeans.py:1416: FutureWarning: The default value of `n_init` will change from 10 to 'auto' in 1.4. Set the value of `n_init` explicitly to suppress the warning\n",
      "  super()._check_params_vs_input(X, default_n_init=10)\n"
     ]
    }
   ],
   "execution_count": 6
  },
  {
   "metadata": {
    "ExecuteTime": {
     "end_time": "2024-06-06T18:52:23.653611Z",
     "start_time": "2024-06-06T18:52:23.613681Z"
    }
   },
   "cell_type": "code",
   "source": [
    "model.predict(embeddings[0])"
   ],
   "id": "8eae6157ad7dabc9",
   "outputs": [
    {
     "data": {
      "text/plain": [
       "13"
      ]
     },
     "execution_count": 7,
     "metadata": {},
     "output_type": "execute_result"
    }
   ],
   "execution_count": 7
  },
  {
   "metadata": {
    "ExecuteTime": {
     "end_time": "2024-06-06T18:52:24.336750Z",
     "start_time": "2024-06-06T18:52:24.301305Z"
    }
   },
   "cell_type": "code",
   "source": [
    "model_path = ROOT_PATH / \"checkpoints/clustering_model_fasttext.pkl\"\n",
    "model.save_model(model_path)"
   ],
   "id": "868cfa0180d5ae90",
   "outputs": [
    {
     "name": "stdout",
     "output_type": "stream",
     "text": [
      "Model saved at /Users/Konstantin.Grotov/Documents/programming/projects/jbr/salary-prediction/checkpoints/clustering_model_fasttext.pkl\n"
     ]
    }
   ],
   "execution_count": 8
  },
  {
   "metadata": {
    "ExecuteTime": {
     "end_time": "2024-06-06T18:52:24.986188Z",
     "start_time": "2024-06-06T18:52:24.949459Z"
    }
   },
   "cell_type": "code",
   "source": [
    "model = model.load_model(model_path)"
   ],
   "id": "910ebe71a44e657c",
   "outputs": [
    {
     "name": "stdout",
     "output_type": "stream",
     "text": [
      "Model successfully loaded\n"
     ]
    }
   ],
   "execution_count": 9
  },
  {
   "metadata": {
    "ExecuteTime": {
     "end_time": "2024-06-06T18:52:25.598766Z",
     "start_time": "2024-06-06T18:52:25.565795Z"
    }
   },
   "cell_type": "code",
   "source": [
    "model.predict(embeddings[0])"
   ],
   "id": "63ec256b7144ca09",
   "outputs": [
    {
     "data": {
      "text/plain": [
       "13"
      ]
     },
     "execution_count": 10,
     "metadata": {},
     "output_type": "execute_result"
    }
   ],
   "execution_count": 10
  },
  {
   "metadata": {},
   "cell_type": "code",
   "outputs": [],
   "execution_count": null,
   "source": "",
   "id": "fef871137a818af9"
  }
 ],
 "metadata": {
  "kernelspec": {
   "display_name": "Python 3",
   "language": "python",
   "name": "python3"
  },
  "language_info": {
   "codemirror_mode": {
    "name": "ipython",
    "version": 2
   },
   "file_extension": ".py",
   "mimetype": "text/x-python",
   "name": "python",
   "nbconvert_exporter": "python",
   "pygments_lexer": "ipython2",
   "version": "2.7.6"
  }
 },
 "nbformat": 4,
 "nbformat_minor": 5
}
