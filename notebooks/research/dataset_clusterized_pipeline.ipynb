{
 "cells": [
  {
   "cell_type": "code",
   "execution_count": 34,
   "id": "initial_id",
   "metadata": {
    "collapsed": true,
    "ExecuteTime": {
     "end_time": "2024-05-20T18:09:19.347548Z",
     "start_time": "2024-05-20T18:09:19.315215Z"
    }
   },
   "outputs": [],
   "source": [
    "import pandas as pd\n",
    "from pathlib import Path"
   ]
  },
  {
   "cell_type": "code",
   "outputs": [
    {
     "data": {
      "text/plain": "   cluster_label                                                emb   target\n0            5.0  [-0.19262028, 0.67613167, -0.06970257, 1.36109...  90000.0\n1            5.0  [-0.18461296, 0.79767823, -0.011102157, 1.4939...  90000.0\n2            5.0  [-0.20171373, 0.72063917, -0.051841334, 1.3009...  70000.0\n3           12.0  [-0.23105316, 1.0083596, 0.08954958, 0.7279827...  32500.0\n4           12.0  [-0.23105316, 1.0083596, 0.08954958, 0.7279827...  32500.0",
      "text/html": "<div>\n<style scoped>\n    .dataframe tbody tr th:only-of-type {\n        vertical-align: middle;\n    }\n\n    .dataframe tbody tr th {\n        vertical-align: top;\n    }\n\n    .dataframe thead th {\n        text-align: right;\n    }\n</style>\n<table border=\"1\" class=\"dataframe\">\n  <thead>\n    <tr style=\"text-align: right;\">\n      <th></th>\n      <th>cluster_label</th>\n      <th>emb</th>\n      <th>target</th>\n    </tr>\n  </thead>\n  <tbody>\n    <tr>\n      <th>0</th>\n      <td>5.0</td>\n      <td>[-0.19262028, 0.67613167, -0.06970257, 1.36109...</td>\n      <td>90000.0</td>\n    </tr>\n    <tr>\n      <th>1</th>\n      <td>5.0</td>\n      <td>[-0.18461296, 0.79767823, -0.011102157, 1.4939...</td>\n      <td>90000.0</td>\n    </tr>\n    <tr>\n      <th>2</th>\n      <td>5.0</td>\n      <td>[-0.20171373, 0.72063917, -0.051841334, 1.3009...</td>\n      <td>70000.0</td>\n    </tr>\n    <tr>\n      <th>3</th>\n      <td>12.0</td>\n      <td>[-0.23105316, 1.0083596, 0.08954958, 0.7279827...</td>\n      <td>32500.0</td>\n    </tr>\n    <tr>\n      <th>4</th>\n      <td>12.0</td>\n      <td>[-0.23105316, 1.0083596, 0.08954958, 0.7279827...</td>\n      <td>32500.0</td>\n    </tr>\n  </tbody>\n</table>\n</div>"
     },
     "execution_count": 35,
     "metadata": {},
     "output_type": "execute_result"
    }
   ],
   "source": [
    "dataset_path = Path(\"df_clusterized.pkl\")\n",
    "df = pd.read_pickle(dataset_path)\n",
    "df.head()"
   ],
   "metadata": {
    "collapsed": false,
    "ExecuteTime": {
     "end_time": "2024-05-20T18:09:19.701706Z",
     "start_time": "2024-05-20T18:09:19.444585Z"
    }
   },
   "id": "7163d6cb5439dca9",
   "execution_count": 35
  },
  {
   "cell_type": "code",
   "outputs": [
    {
     "data": {
      "text/plain": "dict_keys([0.0, 1.0, 2.0, 3.0, 4.0, 5.0, 6.0, 7.0, 8.0, 9.0, 10.0, 11.0, 12.0, 13.0, 14.0, 15.0, 16.0])"
     },
     "execution_count": 36,
     "metadata": {},
     "output_type": "execute_result"
    }
   ],
   "source": [
    "dict_of_dfs = {key: val for key, val in df.groupby(\"cluster_label\")}\n",
    "dict_of_dfs.keys()"
   ],
   "metadata": {
    "collapsed": false,
    "ExecuteTime": {
     "end_time": "2024-05-20T18:09:19.729612Z",
     "start_time": "2024-05-20T18:09:19.702945Z"
    }
   },
   "id": "9e9eb7bfeabaf37f",
   "execution_count": 36
  },
  {
   "cell_type": "code",
   "outputs": [
    {
     "name": "stdout",
     "output_type": "stream",
     "text": [
      "The autoreload extension is already loaded. To reload it, use:\n",
      "  %reload_ext autoreload\n"
     ]
    }
   ],
   "source": [
    "%load_ext autoreload\n",
    "%autoreload 2\n",
    "\n",
    "from core.models.clustering_model import StackedModels, hyperparameters_tuning"
   ],
   "metadata": {
    "collapsed": false,
    "ExecuteTime": {
     "end_time": "2024-05-20T18:10:14.857258Z",
     "start_time": "2024-05-20T18:10:14.592365Z"
    }
   },
   "id": "b057200585d57f5a",
   "execution_count": 41
  },
  {
   "cell_type": "code",
   "outputs": [],
   "source": [
    "# sample_model = StackedModels()\n",
    "#\n",
    "# split_dataset_dict = sample_model.split_dict_dataset(dict_of_dfs, test_size=0.2)\n",
    "# train_dataset_dict = {k: v for k, (v, _) in split_dataset_dict.items()}\n",
    "# test_dataset_dict = {k: v for k, (_, v) in split_dataset_dict.items()}\n",
    "#\n",
    "# sample_model = sample_model.train(train_dataset_dict, test_size=0.0)\n",
    "#\n",
    "# metric = sample_model.evaluate(dataset_dict=test_dataset_dict)\n",
    "# print(metric)"
   ],
   "metadata": {
    "collapsed": false,
    "ExecuteTime": {
     "end_time": "2024-05-20T18:10:14.883019Z",
     "start_time": "2024-05-20T18:10:14.859027Z"
    }
   },
   "id": "aa11211a6261dc82",
   "execution_count": 42
  },
  {
   "cell_type": "code",
   "outputs": [],
   "source": [
    "# params = hyperparameters_tuning(dict_of_dfs)"
   ],
   "metadata": {
    "collapsed": false,
    "ExecuteTime": {
     "end_time": "2024-05-20T18:10:14.907947Z",
     "start_time": "2024-05-20T18:10:14.884483Z"
    }
   },
   "id": "98f28b0b65d46bd7",
   "execution_count": 43
  },
  {
   "cell_type": "code",
   "outputs": [
    {
     "name": "stdout",
     "output_type": "stream",
     "text": [
      "{}\n",
      "0:\tlearn: 47254.3872805\ttotal: 12.3ms\tremaining: 111ms\n",
      "1:\tlearn: 45784.4783416\ttotal: 25ms\tremaining: 100ms\n",
      "2:\tlearn: 44532.7719096\ttotal: 33.7ms\tremaining: 78.5ms\n",
      "3:\tlearn: 43389.6980946\ttotal: 40.1ms\tremaining: 60.2ms\n",
      "4:\tlearn: 42107.2301723\ttotal: 47.9ms\tremaining: 47.9ms\n",
      "5:\tlearn: 41061.6167529\ttotal: 55.6ms\tremaining: 37ms\n",
      "6:\tlearn: 40125.8719353\ttotal: 62ms\tremaining: 26.6ms\n",
      "7:\tlearn: 39176.2089471\ttotal: 69ms\tremaining: 17.3ms\n",
      "8:\tlearn: 38276.0181112\ttotal: 74.9ms\tremaining: 8.32ms\n",
      "9:\tlearn: 37352.4223098\ttotal: 83.2ms\tremaining: 0us\n",
      "Model trained\n",
      "{}\n",
      "0:\tlearn: 10889.0750729\ttotal: 457us\tremaining: 4.11ms\n",
      "1:\tlearn: 10476.5921634\ttotal: 1.05ms\tremaining: 4.22ms\n",
      "2:\tlearn: 10035.6742658\ttotal: 1.31ms\tremaining: 3.07ms\n",
      "3:\tlearn: 9615.7908115\ttotal: 1.58ms\tremaining: 2.37ms\n",
      "4:\tlearn: 9312.1009291\ttotal: 2.16ms\tremaining: 2.16ms\n",
      "5:\tlearn: 8945.4886000\ttotal: 2.49ms\tremaining: 1.66ms\n",
      "6:\tlearn: 8611.1585045\ttotal: 2.83ms\tremaining: 1.21ms\n",
      "7:\tlearn: 8331.8786232\ttotal: 3.2ms\tremaining: 801us\n",
      "8:\tlearn: 8056.0930360\ttotal: 3.76ms\tremaining: 417us\n",
      "9:\tlearn: 7759.7156955\ttotal: 3.96ms\tremaining: 0us\n",
      "Model trained\n",
      "{}\n",
      "0:\tlearn: 34824.4952296\ttotal: 7.85ms\tremaining: 70.6ms\n",
      "1:\tlearn: 34356.7393813\ttotal: 14.6ms\tremaining: 58.3ms\n",
      "2:\tlearn: 33872.7104124\ttotal: 20.8ms\tremaining: 48.5ms\n",
      "3:\tlearn: 33414.1924954\ttotal: 27.8ms\tremaining: 41.7ms\n",
      "4:\tlearn: 32896.4212411\ttotal: 35.7ms\tremaining: 35.7ms\n",
      "5:\tlearn: 32534.8640013\ttotal: 43.8ms\tremaining: 29.2ms\n",
      "6:\tlearn: 32214.6521032\ttotal: 50.7ms\tremaining: 21.7ms\n",
      "7:\tlearn: 31882.0854002\ttotal: 57ms\tremaining: 14.3ms\n",
      "8:\tlearn: 31426.2471142\ttotal: 63.4ms\tremaining: 7.05ms\n",
      "9:\tlearn: 31060.1801066\ttotal: 71.2ms\tremaining: 0us\n",
      "Model trained\n",
      "{}\n",
      "0:\tlearn: 18486.2871237\ttotal: 7.21ms\tremaining: 64.9ms\n",
      "1:\tlearn: 17959.9804291\ttotal: 16.5ms\tremaining: 66.1ms\n",
      "2:\tlearn: 17452.1030888\ttotal: 27.3ms\tremaining: 63.7ms\n",
      "3:\tlearn: 16984.8253783\ttotal: 34.6ms\tremaining: 51.9ms\n",
      "4:\tlearn: 16501.5451011\ttotal: 42.9ms\tremaining: 42.9ms\n",
      "5:\tlearn: 16135.6722146\ttotal: 51.5ms\tremaining: 34.3ms\n",
      "6:\tlearn: 15826.3312816\ttotal: 59.1ms\tremaining: 25.3ms\n",
      "7:\tlearn: 15469.2260511\ttotal: 66.6ms\tremaining: 16.7ms\n",
      "8:\tlearn: 15102.8251598\ttotal: 73.5ms\tremaining: 8.17ms\n",
      "9:\tlearn: 14773.9960897\ttotal: 81.8ms\tremaining: 0us\n",
      "Model trained\n",
      "{}\n",
      "0:\tlearn: 49431.9234599\ttotal: 7.47ms\tremaining: 67.2ms\n",
      "1:\tlearn: 48420.4426017\ttotal: 14ms\tremaining: 56.1ms\n",
      "2:\tlearn: 47572.6483324\ttotal: 20.9ms\tremaining: 48.9ms\n",
      "3:\tlearn: 46760.5335595\ttotal: 28ms\tremaining: 42ms\n",
      "4:\tlearn: 46017.7840158\ttotal: 36ms\tremaining: 36ms\n",
      "5:\tlearn: 45508.2008644\ttotal: 44.3ms\tremaining: 29.6ms\n",
      "6:\tlearn: 44818.0690064\ttotal: 51.2ms\tremaining: 21.9ms\n",
      "7:\tlearn: 44303.6096592\ttotal: 57.3ms\tremaining: 14.3ms\n",
      "8:\tlearn: 43863.5075810\ttotal: 62.8ms\tremaining: 6.98ms\n",
      "9:\tlearn: 43273.3385699\ttotal: 70.3ms\tremaining: 0us\n",
      "Model trained\n",
      "{}\n",
      "0:\tlearn: 40533.9059953\ttotal: 7.72ms\tremaining: 69.5ms\n",
      "1:\tlearn: 39715.7394323\ttotal: 14.5ms\tremaining: 58.2ms\n",
      "2:\tlearn: 38897.5924319\ttotal: 21.2ms\tremaining: 49.5ms\n",
      "3:\tlearn: 38031.8114647\ttotal: 29.4ms\tremaining: 44.1ms\n",
      "4:\tlearn: 37185.5471491\ttotal: 37.1ms\tremaining: 37.1ms\n",
      "5:\tlearn: 36445.5850720\ttotal: 44.9ms\tremaining: 29.9ms\n",
      "6:\tlearn: 35744.2542209\ttotal: 51.8ms\tremaining: 22.2ms\n",
      "7:\tlearn: 34998.2091337\ttotal: 58.6ms\tremaining: 14.7ms\n",
      "8:\tlearn: 34285.4814820\ttotal: 65.3ms\tremaining: 7.25ms\n",
      "9:\tlearn: 33651.7925940\ttotal: 73.8ms\tremaining: 0us\n",
      "Model trained\n",
      "{}\n",
      "0:\tlearn: 54797.5248519\ttotal: 8.84ms\tremaining: 79.5ms\n",
      "1:\tlearn: 52928.7240844\ttotal: 16.8ms\tremaining: 67.3ms\n",
      "2:\tlearn: 51050.3291322\ttotal: 23.7ms\tremaining: 55.3ms\n",
      "3:\tlearn: 49335.3968799\ttotal: 30.2ms\tremaining: 45.4ms\n",
      "4:\tlearn: 47916.3368811\ttotal: 38ms\tremaining: 38ms\n",
      "5:\tlearn: 46586.7553725\ttotal: 46.7ms\tremaining: 31.1ms\n",
      "6:\tlearn: 45255.8488123\ttotal: 54ms\tremaining: 23.1ms\n",
      "7:\tlearn: 43833.3710801\ttotal: 60.4ms\tremaining: 15.1ms\n",
      "8:\tlearn: 42834.6111400\ttotal: 67.8ms\tremaining: 7.53ms\n",
      "9:\tlearn: 41747.6727521\ttotal: 77.1ms\tremaining: 0us\n",
      "Model trained\n",
      "{}\n",
      "0:\tlearn: 16033.1907365\ttotal: 7.96ms\tremaining: 71.6ms\n",
      "1:\tlearn: 15585.6906423\ttotal: 15.7ms\tremaining: 62.9ms\n",
      "2:\tlearn: 15163.2567746\ttotal: 23.3ms\tremaining: 54.4ms\n",
      "3:\tlearn: 14768.8605961\ttotal: 30.3ms\tremaining: 45.4ms\n",
      "4:\tlearn: 14418.9205674\ttotal: 38.3ms\tremaining: 38.3ms\n",
      "5:\tlearn: 14075.6179671\ttotal: 47.1ms\tremaining: 31.4ms\n",
      "6:\tlearn: 13750.5908256\ttotal: 54.5ms\tremaining: 23.3ms\n",
      "7:\tlearn: 13432.8816863\ttotal: 61.3ms\tremaining: 15.3ms\n",
      "8:\tlearn: 13152.6016621\ttotal: 67.8ms\tremaining: 7.53ms\n",
      "9:\tlearn: 12880.3713478\ttotal: 76ms\tremaining: 0us\n",
      "Model trained\n",
      "{}\n",
      "0:\tlearn: 26433.8975729\ttotal: 7.73ms\tremaining: 69.6ms\n",
      "1:\tlearn: 25246.7328265\ttotal: 15.2ms\tremaining: 60.8ms\n",
      "2:\tlearn: 24170.3295195\ttotal: 21.9ms\tremaining: 51.1ms\n",
      "3:\tlearn: 23221.6733335\ttotal: 29.2ms\tremaining: 43.8ms\n",
      "4:\tlearn: 22152.5046101\ttotal: 37.2ms\tremaining: 37.2ms\n",
      "5:\tlearn: 21313.3559859\ttotal: 45.7ms\tremaining: 30.5ms\n",
      "6:\tlearn: 20482.5389275\ttotal: 53.5ms\tremaining: 22.9ms\n",
      "7:\tlearn: 19779.7168470\ttotal: 60.3ms\tremaining: 15.1ms\n",
      "8:\tlearn: 19037.4442230\ttotal: 70.7ms\tremaining: 7.86ms\n",
      "9:\tlearn: 18345.9561960\ttotal: 79ms\tremaining: 0us\n",
      "Model trained\n",
      "{}\n",
      "0:\tlearn: 17562.1622210\ttotal: 13.7ms\tremaining: 123ms\n",
      "1:\tlearn: 17182.5493618\ttotal: 20.8ms\tremaining: 83.2ms\n",
      "2:\tlearn: 16828.6990785\ttotal: 28.2ms\tremaining: 65.8ms\n",
      "3:\tlearn: 16496.1014787\ttotal: 34.5ms\tremaining: 51.7ms\n",
      "4:\tlearn: 16221.6753068\ttotal: 41.1ms\tremaining: 41.1ms\n",
      "5:\tlearn: 15979.2950059\ttotal: 47.9ms\tremaining: 31.9ms\n",
      "6:\tlearn: 15707.3662777\ttotal: 54ms\tremaining: 23.1ms\n",
      "7:\tlearn: 15444.5656073\ttotal: 59.5ms\tremaining: 14.9ms\n",
      "8:\tlearn: 15188.5161856\ttotal: 65.3ms\tremaining: 7.25ms\n",
      "9:\tlearn: 14963.0049740\ttotal: 89.5ms\tremaining: 0us\n",
      "Model trained\n",
      "{}\n",
      "0:\tlearn: 33668.6877380\ttotal: 7.99ms\tremaining: 71.9ms\n",
      "1:\tlearn: 32839.3243518\ttotal: 14.9ms\tremaining: 59.5ms\n",
      "2:\tlearn: 32058.9118537\ttotal: 21.5ms\tremaining: 50.2ms\n",
      "3:\tlearn: 31305.9617024\ttotal: 29ms\tremaining: 43.5ms\n",
      "4:\tlearn: 30601.9256778\ttotal: 36.9ms\tremaining: 36.9ms\n",
      "5:\tlearn: 29929.6578507\ttotal: 45.1ms\tremaining: 30.1ms\n",
      "6:\tlearn: 29297.5817055\ttotal: 56.8ms\tremaining: 24.3ms\n",
      "7:\tlearn: 28787.8302671\ttotal: 63.2ms\tremaining: 15.8ms\n",
      "8:\tlearn: 28286.5523103\ttotal: 70.8ms\tremaining: 7.87ms\n",
      "9:\tlearn: 27857.0991039\ttotal: 79.3ms\tremaining: 0us\n",
      "Model trained\n",
      "{}\n",
      "0:\tlearn: 29380.5703008\ttotal: 8.29ms\tremaining: 74.6ms\n",
      "1:\tlearn: 28407.1765445\ttotal: 15.7ms\tremaining: 62.9ms\n",
      "2:\tlearn: 27557.5171292\ttotal: 22.6ms\tremaining: 52.7ms\n",
      "3:\tlearn: 26769.9235885\ttotal: 30ms\tremaining: 45ms\n",
      "4:\tlearn: 26018.3744545\ttotal: 38.6ms\tremaining: 38.6ms\n",
      "5:\tlearn: 25330.4211979\ttotal: 46.4ms\tremaining: 31ms\n",
      "6:\tlearn: 24611.7232414\ttotal: 52.7ms\tremaining: 22.6ms\n",
      "7:\tlearn: 23935.4760695\ttotal: 59.2ms\tremaining: 14.8ms\n",
      "8:\tlearn: 23359.2875251\ttotal: 66.1ms\tremaining: 7.35ms\n",
      "9:\tlearn: 22862.9940130\ttotal: 74.9ms\tremaining: 0us\n",
      "Model trained\n",
      "{}\n",
      "0:\tlearn: 38817.9832562\ttotal: 7.04ms\tremaining: 63.4ms\n",
      "1:\tlearn: 37657.2620749\ttotal: 13.3ms\tremaining: 53.3ms\n",
      "2:\tlearn: 36562.5712746\ttotal: 19.5ms\tremaining: 45.4ms\n",
      "3:\tlearn: 35521.7368360\ttotal: 25.8ms\tremaining: 38.7ms\n",
      "4:\tlearn: 34607.0337040\ttotal: 33.1ms\tremaining: 33.1ms\n",
      "5:\tlearn: 33660.9258022\ttotal: 40.8ms\tremaining: 27.2ms\n",
      "6:\tlearn: 32862.1800703\ttotal: 47.1ms\tremaining: 20.2ms\n",
      "7:\tlearn: 32078.5865240\ttotal: 53.3ms\tremaining: 13.3ms\n",
      "8:\tlearn: 31277.6424885\ttotal: 61.6ms\tremaining: 6.85ms\n",
      "9:\tlearn: 30630.1047532\ttotal: 69.3ms\tremaining: 0us\n",
      "Model trained\n",
      "{}\n",
      "0:\tlearn: 32453.2464707\ttotal: 9.38ms\tremaining: 84.4ms\n",
      "1:\tlearn: 31246.2893578\ttotal: 15.9ms\tremaining: 63.6ms\n",
      "2:\tlearn: 30151.0537482\ttotal: 21.4ms\tremaining: 49.9ms\n",
      "3:\tlearn: 29210.2688270\ttotal: 27.8ms\tremaining: 41.7ms\n",
      "4:\tlearn: 28374.6840165\ttotal: 35.3ms\tremaining: 35.3ms\n",
      "5:\tlearn: 27483.9698904\ttotal: 42ms\tremaining: 28ms\n",
      "6:\tlearn: 26697.7320942\ttotal: 49.2ms\tremaining: 21.1ms\n",
      "7:\tlearn: 25934.1632646\ttotal: 54.9ms\tremaining: 13.7ms\n",
      "8:\tlearn: 25261.7335267\ttotal: 60.6ms\tremaining: 6.74ms\n",
      "9:\tlearn: 24652.7929639\ttotal: 67.4ms\tremaining: 0us\n",
      "Model trained\n",
      "{}\n",
      "0:\tlearn: 30523.0776970\ttotal: 7.86ms\tremaining: 70.8ms\n",
      "1:\tlearn: 29764.3487012\ttotal: 15.1ms\tremaining: 60.3ms\n",
      "2:\tlearn: 29048.3388128\ttotal: 21.1ms\tremaining: 49.3ms\n",
      "3:\tlearn: 28371.5722545\ttotal: 27.4ms\tremaining: 41.1ms\n",
      "4:\tlearn: 27760.7462983\ttotal: 35.1ms\tremaining: 35.1ms\n",
      "5:\tlearn: 27144.0742614\ttotal: 42.6ms\tremaining: 28.4ms\n",
      "6:\tlearn: 26631.5281407\ttotal: 49.6ms\tremaining: 21.2ms\n",
      "7:\tlearn: 26132.3966016\ttotal: 55.8ms\tremaining: 14ms\n",
      "8:\tlearn: 25630.4407073\ttotal: 62ms\tremaining: 6.89ms\n",
      "9:\tlearn: 25209.1702475\ttotal: 69.8ms\tremaining: 0us\n",
      "Model trained\n",
      "{}\n",
      "0:\tlearn: 31359.6941899\ttotal: 4.99ms\tremaining: 44.9ms\n",
      "1:\tlearn: 30338.6890095\ttotal: 9.85ms\tremaining: 39.4ms\n",
      "2:\tlearn: 29347.6049237\ttotal: 14.1ms\tremaining: 33ms\n",
      "3:\tlearn: 28378.8859431\ttotal: 18.8ms\tremaining: 28.2ms\n",
      "4:\tlearn: 27529.6681022\ttotal: 24.7ms\tremaining: 24.7ms\n",
      "5:\tlearn: 26827.4559111\ttotal: 30.6ms\tremaining: 20.4ms\n",
      "6:\tlearn: 26185.2014543\ttotal: 36ms\tremaining: 15.4ms\n",
      "7:\tlearn: 25479.0170817\ttotal: 41.6ms\tremaining: 10.4ms\n",
      "8:\tlearn: 24834.1629239\ttotal: 48.9ms\tremaining: 5.43ms\n",
      "9:\tlearn: 24232.9593501\ttotal: 53.3ms\tremaining: 0us\n",
      "Model trained\n",
      "{}\n",
      "0:\tlearn: 27576.3237502\ttotal: 6.76ms\tremaining: 60.8ms\n",
      "1:\tlearn: 26966.1190792\ttotal: 12.5ms\tremaining: 50.2ms\n",
      "2:\tlearn: 26486.7673061\ttotal: 17.6ms\tremaining: 41.2ms\n",
      "3:\tlearn: 26073.0016814\ttotal: 22.8ms\tremaining: 34.1ms\n",
      "4:\tlearn: 25604.2429729\ttotal: 29.5ms\tremaining: 29.5ms\n",
      "5:\tlearn: 25173.8690721\ttotal: 38.4ms\tremaining: 25.6ms\n",
      "6:\tlearn: 24748.6142981\ttotal: 43.6ms\tremaining: 18.7ms\n",
      "7:\tlearn: 24357.7959067\ttotal: 48.5ms\tremaining: 12.1ms\n",
      "8:\tlearn: 23948.5552355\ttotal: 54.8ms\tremaining: 6.09ms\n",
      "9:\tlearn: 23541.5105541\ttotal: 66.8ms\tremaining: 0us\n",
      "Model trained\n",
      "Model trained\n",
      "{\n",
      "    \"0.0\": 25383.558390369362,\n",
      "    \"1.0\": 3247.1757936829567,\n",
      "    \"2.0\": 20984.644788757087,\n",
      "    \"3.0\": 11374.000270781127,\n",
      "    \"4.0\": 32663.812978384885,\n",
      "    \"5.0\": 31894.294928759024,\n",
      "    \"6.0\": 35766.66715096048,\n",
      "    \"7.0\": 9087.542188978392,\n",
      "    \"8.0\": 13836.896863077163,\n",
      "    \"9.0\": 13014.926118608191,\n",
      "    \"10.0\": 23192.284403511294,\n",
      "    \"11.0\": 18550.93537004741,\n",
      "    \"12.0\": 23624.31673968718,\n",
      "    \"13.0\": 19929.607042706557,\n",
      "    \"14.0\": 13672.193753800666,\n",
      "    \"15.0\": 14729.06703657992,\n",
      "    \"16.0\": 17672.68617101127\n",
      "}\n",
      "Test score is 19330.859411158995\n"
     ]
    }
   ],
   "source": [
    "params = {\n",
    "    \"iterations\": 10,\n",
    "    \"learning_rate\": 0.0937764664653123,\n",
    "    \"depth\": 10,\n",
    "    \"subsample\": 0.9385324697461019,\n",
    "    \"colsample_bylevel\": 0.5370254214536792,\n",
    "    \"min_data_in_leaf\": 89,\n",
    "}\n",
    "\n",
    "sample_model = StackedModels(**params)\n",
    "sample_model = sample_model.train(dict_of_dfs, test_size=0.2)"
   ],
   "metadata": {
    "collapsed": false,
    "ExecuteTime": {
     "end_time": "2024-05-20T18:28:35.704951Z",
     "start_time": "2024-05-20T18:28:34.281638Z"
    }
   },
   "id": "3bce97b64c54d378",
   "execution_count": 49
  },
  {
   "cell_type": "code",
   "outputs": [],
   "source": [],
   "metadata": {
    "collapsed": false
   },
   "id": "da2672ee289865d6"
  }
 ],
 "metadata": {
  "kernelspec": {
   "display_name": "Python 3",
   "language": "python",
   "name": "python3"
  },
  "language_info": {
   "codemirror_mode": {
    "name": "ipython",
    "version": 2
   },
   "file_extension": ".py",
   "mimetype": "text/x-python",
   "name": "python",
   "nbconvert_exporter": "python",
   "pygments_lexer": "ipython2",
   "version": "2.7.6"
  }
 },
 "nbformat": 4,
 "nbformat_minor": 5
}
