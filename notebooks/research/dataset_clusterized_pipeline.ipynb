{
 "cells": [
  {
   "cell_type": "code",
   "id": "initial_id",
   "metadata": {
    "collapsed": true,
    "ExecuteTime": {
     "end_time": "2024-06-06T17:53:37.934873Z",
     "start_time": "2024-06-06T17:53:37.931758Z"
    }
   },
   "source": [
    "import pandas as pd\n",
    "from pathlib import Path\n",
    "from core import ROOT_PATH"
   ],
   "outputs": [],
   "execution_count": 4
  },
  {
   "cell_type": "code",
   "source": [
    "dataset_path = ROOT_PATH / Path(\"data/df_clusterized.pkl\")\n",
    "df = pd.read_pickle(dataset_path)\n",
    "df.head()"
   ],
   "metadata": {
    "collapsed": false,
    "ExecuteTime": {
     "end_time": "2024-06-06T17:53:38.097217Z",
     "start_time": "2024-06-06T17:53:38.074320Z"
    }
   },
   "id": "7163d6cb5439dca9",
   "outputs": [
    {
     "data": {
      "text/plain": [
       "   cluster_label                                                emb   target\n",
       "0            5.0  [-0.19262028, 0.67613167, -0.06970257, 1.36109...  90000.0\n",
       "1            5.0  [-0.18461296, 0.79767823, -0.011102157, 1.4939...  90000.0\n",
       "2            5.0  [-0.20171373, 0.72063917, -0.051841334, 1.3009...  70000.0\n",
       "3           12.0  [-0.23105316, 1.0083596, 0.08954958, 0.7279827...  32500.0\n",
       "4           12.0  [-0.23105316, 1.0083596, 0.08954958, 0.7279827...  32500.0"
      ],
      "text/html": [
       "<div>\n",
       "<style scoped>\n",
       "    .dataframe tbody tr th:only-of-type {\n",
       "        vertical-align: middle;\n",
       "    }\n",
       "\n",
       "    .dataframe tbody tr th {\n",
       "        vertical-align: top;\n",
       "    }\n",
       "\n",
       "    .dataframe thead th {\n",
       "        text-align: right;\n",
       "    }\n",
       "</style>\n",
       "<table border=\"1\" class=\"dataframe\">\n",
       "  <thead>\n",
       "    <tr style=\"text-align: right;\">\n",
       "      <th></th>\n",
       "      <th>cluster_label</th>\n",
       "      <th>emb</th>\n",
       "      <th>target</th>\n",
       "    </tr>\n",
       "  </thead>\n",
       "  <tbody>\n",
       "    <tr>\n",
       "      <th>0</th>\n",
       "      <td>5.0</td>\n",
       "      <td>[-0.19262028, 0.67613167, -0.06970257, 1.36109...</td>\n",
       "      <td>90000.0</td>\n",
       "    </tr>\n",
       "    <tr>\n",
       "      <th>1</th>\n",
       "      <td>5.0</td>\n",
       "      <td>[-0.18461296, 0.79767823, -0.011102157, 1.4939...</td>\n",
       "      <td>90000.0</td>\n",
       "    </tr>\n",
       "    <tr>\n",
       "      <th>2</th>\n",
       "      <td>5.0</td>\n",
       "      <td>[-0.20171373, 0.72063917, -0.051841334, 1.3009...</td>\n",
       "      <td>70000.0</td>\n",
       "    </tr>\n",
       "    <tr>\n",
       "      <th>3</th>\n",
       "      <td>12.0</td>\n",
       "      <td>[-0.23105316, 1.0083596, 0.08954958, 0.7279827...</td>\n",
       "      <td>32500.0</td>\n",
       "    </tr>\n",
       "    <tr>\n",
       "      <th>4</th>\n",
       "      <td>12.0</td>\n",
       "      <td>[-0.23105316, 1.0083596, 0.08954958, 0.7279827...</td>\n",
       "      <td>32500.0</td>\n",
       "    </tr>\n",
       "  </tbody>\n",
       "</table>\n",
       "</div>"
      ]
     },
     "execution_count": 5,
     "metadata": {},
     "output_type": "execute_result"
    }
   ],
   "execution_count": 5
  },
  {
   "cell_type": "code",
   "source": [
    "dict_of_dfs = {key: val for key, val in df.groupby(\"cluster_label\")}\n",
    "dict_of_dfs.keys()"
   ],
   "metadata": {
    "collapsed": false,
    "ExecuteTime": {
     "end_time": "2024-06-06T17:53:41.506233Z",
     "start_time": "2024-06-06T17:53:41.501990Z"
    }
   },
   "id": "9e9eb7bfeabaf37f",
   "outputs": [
    {
     "data": {
      "text/plain": [
       "dict_keys([0.0, 1.0, 2.0, 3.0, 4.0, 5.0, 6.0, 7.0, 8.0, 9.0, 10.0, 11.0, 12.0, 13.0, 14.0, 15.0, 16.0])"
      ]
     },
     "execution_count": 6,
     "metadata": {},
     "output_type": "execute_result"
    }
   ],
   "execution_count": 6
  },
  {
   "cell_type": "code",
   "source": [
    "%load_ext autoreload\n",
    "%autoreload 2\n",
    "\n",
    "from core.models.clustering_model import StackedModels, hyperparameters_tuning"
   ],
   "metadata": {
    "collapsed": false,
    "ExecuteTime": {
     "end_time": "2024-06-06T17:53:47.464427Z",
     "start_time": "2024-06-06T17:53:43.188247Z"
    }
   },
   "id": "b057200585d57f5a",
   "outputs": [],
   "execution_count": 7
  },
  {
   "cell_type": "code",
   "source": [
    "# params = {\n",
    "#     \"iterations\": 10,\n",
    "#     \"learning_rate\": 0.07060926866932606,\n",
    "#     \"depth\": 10,\n",
    "#     \"subsample\": 0.710251337503286,\n",
    "#     \"colsample_bylevel\": 0.6883135875379539,\n",
    "#     \"min_data_in_leaf\": 1,\n",
    "# }\n",
    "# \n",
    "# sample_model = StackedModels(**params)\n",
    "# sample_model = sample_model.train(dict_of_dfs, test_size=0.2)\n",
    "\n",
    "# # or\n",
    "\n",
    "# params = hyperparameters_tuning(dict_of_dfs)\n"
   ],
   "metadata": {
    "collapsed": false,
    "ExecuteTime": {
     "end_time": "2024-06-06T17:53:47.510665Z",
     "start_time": "2024-06-06T17:53:47.469825Z"
    }
   },
   "id": "3bce97b64c54d378",
   "outputs": [],
   "execution_count": 8
  },
  {
   "cell_type": "code",
   "source": [
    "params = {\n",
    "    \"iterations\": 10,\n",
    "    \"learning_rate\": 0.07060926866932606,\n",
    "    \"depth\": 10,\n",
    "    \"subsample\": 0.710251337503286,\n",
    "    \"colsample_bylevel\": 0.6883135875379539,\n",
    "    \"min_data_in_leaf\": 1,\n",
    "}\n",
    "\n",
    "sample_model = StackedModels(**params)\n",
    "\n",
    "split_dataset_dict = sample_model.split_dict_dataset(dict_of_dfs, test_size=0.2)\n",
    "train_dataset_dict = {k: v for k, (v, _) in split_dataset_dict.items()}\n",
    "test_dataset_dict = {k: v for k, (_, v) in split_dataset_dict.items()}\n",
    "\n",
    "sample_model = sample_model.train(train_dataset_dict, test_size=0.0)\n",
    "\n",
    "metric = sample_model.evaluate(dataset_dict=test_dataset_dict)\n",
    "print(metric)"
   ],
   "metadata": {
    "collapsed": false,
    "ExecuteTime": {
     "end_time": "2024-06-06T17:53:50.956523Z",
     "start_time": "2024-06-06T17:53:49.416241Z"
    }
   },
   "id": "aa11211a6261dc82",
   "outputs": [
    {
     "name": "stdout",
     "output_type": "stream",
     "text": [
      "{}\n",
      "0:\tlearn: 47577.6432816\ttotal: 75.3ms\tremaining: 678ms\n",
      "1:\tlearn: 46589.0345788\ttotal: 88ms\tremaining: 352ms\n",
      "2:\tlearn: 45559.7078350\ttotal: 119ms\tremaining: 279ms\n",
      "3:\tlearn: 44517.1554869\ttotal: 142ms\tremaining: 212ms\n",
      "4:\tlearn: 43550.4166412\ttotal: 168ms\tremaining: 168ms\n",
      "5:\tlearn: 42595.0620505\ttotal: 184ms\tremaining: 123ms\n",
      "6:\tlearn: 41820.4292491\ttotal: 191ms\tremaining: 81.7ms\n",
      "7:\tlearn: 41008.1860314\ttotal: 198ms\tremaining: 49.5ms\n",
      "8:\tlearn: 40267.0168294\ttotal: 204ms\tremaining: 22.7ms\n",
      "9:\tlearn: 39596.0872044\ttotal: 210ms\tremaining: 0us\n",
      "Model trained\n",
      "{}\n",
      "0:\tlearn: 10988.8826154\ttotal: 638us\tremaining: 5.74ms\n",
      "1:\tlearn: 10612.6345103\ttotal: 1.07ms\tremaining: 4.3ms\n",
      "2:\tlearn: 10301.9604146\ttotal: 1.73ms\tremaining: 4.04ms\n",
      "3:\tlearn: 10034.5434144\ttotal: 2.25ms\tremaining: 3.38ms\n",
      "4:\tlearn: 9787.2140010\ttotal: 2.81ms\tremaining: 2.81ms\n",
      "5:\tlearn: 9510.3827502\ttotal: 3.17ms\tremaining: 2.11ms\n",
      "6:\tlearn: 9244.1034293\ttotal: 3.62ms\tremaining: 1.55ms\n",
      "7:\tlearn: 9000.7209697\ttotal: 4.67ms\tremaining: 1.17ms\n",
      "8:\tlearn: 8739.1361332\ttotal: 4.96ms\tremaining: 551us\n",
      "9:\tlearn: 8504.5478080\ttotal: 5.4ms\tremaining: 0us\n",
      "Model trained\n",
      "{}\n",
      "0:\tlearn: 34947.5937752\ttotal: 6.09ms\tremaining: 54.8ms\n",
      "1:\tlearn: 34653.8751523\ttotal: 11.8ms\tremaining: 47.3ms\n",
      "2:\tlearn: 34362.7471160\ttotal: 18.1ms\tremaining: 42.2ms\n",
      "3:\tlearn: 33957.2015595\ttotal: 24ms\tremaining: 36ms\n",
      "4:\tlearn: 33626.0684479\ttotal: 30.4ms\tremaining: 30.4ms\n",
      "5:\tlearn: 33312.8931325\ttotal: 36.6ms\tremaining: 24.4ms\n",
      "6:\tlearn: 32977.0607995\ttotal: 42.9ms\tremaining: 18.4ms\n",
      "7:\tlearn: 32602.9297733\ttotal: 49.5ms\tremaining: 12.4ms\n",
      "8:\tlearn: 32301.3073662\ttotal: 55.4ms\tremaining: 6.15ms\n",
      "9:\tlearn: 31971.8403076\ttotal: 61.2ms\tremaining: 0us\n",
      "Model trained\n",
      "{}\n",
      "0:\tlearn: 18632.6890497\ttotal: 5.71ms\tremaining: 51.4ms\n",
      "1:\tlearn: 18279.1578187\ttotal: 11.6ms\tremaining: 46.6ms\n",
      "2:\tlearn: 17877.8350356\ttotal: 17.9ms\tremaining: 41.8ms\n",
      "3:\tlearn: 17508.4905939\ttotal: 23.7ms\tremaining: 35.5ms\n",
      "4:\tlearn: 17168.4363494\ttotal: 30.6ms\tremaining: 30.6ms\n",
      "5:\tlearn: 16860.9995840\ttotal: 37.9ms\tremaining: 25.2ms\n",
      "6:\tlearn: 16535.5936047\ttotal: 43.9ms\tremaining: 18.8ms\n",
      "7:\tlearn: 16253.2886259\ttotal: 50.6ms\tremaining: 12.6ms\n",
      "8:\tlearn: 16060.9649844\ttotal: 55.9ms\tremaining: 6.21ms\n",
      "9:\tlearn: 15751.4653108\ttotal: 61.5ms\tremaining: 0us\n",
      "Model trained\n",
      "{}\n",
      "0:\tlearn: 49886.7294189\ttotal: 6.24ms\tremaining: 56.2ms\n",
      "1:\tlearn: 49121.5460876\ttotal: 12.2ms\tremaining: 48.8ms\n",
      "2:\tlearn: 48465.7325626\ttotal: 18.3ms\tremaining: 42.8ms\n",
      "3:\tlearn: 47740.7952060\ttotal: 24.3ms\tremaining: 36.4ms\n",
      "4:\tlearn: 47155.2400665\ttotal: 30.4ms\tremaining: 30.4ms\n",
      "5:\tlearn: 46546.8360642\ttotal: 36.3ms\tremaining: 24.2ms\n",
      "6:\tlearn: 45947.8009392\ttotal: 42.7ms\tremaining: 18.3ms\n",
      "7:\tlearn: 45360.5333309\ttotal: 49.5ms\tremaining: 12.4ms\n",
      "8:\tlearn: 44877.6101991\ttotal: 55.8ms\tremaining: 6.2ms\n",
      "9:\tlearn: 44371.3517920\ttotal: 61.8ms\tremaining: 0us\n",
      "Model trained\n",
      "{}\n",
      "0:\tlearn: 40901.8427373\ttotal: 6.43ms\tremaining: 57.9ms\n",
      "1:\tlearn: 40216.2750050\ttotal: 12.9ms\tremaining: 51.7ms\n",
      "2:\tlearn: 39609.1654682\ttotal: 19.9ms\tremaining: 46.3ms\n",
      "3:\tlearn: 39080.5196524\ttotal: 26.8ms\tremaining: 40.3ms\n",
      "4:\tlearn: 38509.0450865\ttotal: 33.5ms\tremaining: 33.5ms\n",
      "5:\tlearn: 37986.7483911\ttotal: 39.5ms\tremaining: 26.4ms\n",
      "6:\tlearn: 37383.0288299\ttotal: 45.3ms\tremaining: 19.4ms\n",
      "7:\tlearn: 36823.2398226\ttotal: 51.5ms\tremaining: 12.9ms\n",
      "8:\tlearn: 36300.4251255\ttotal: 57.5ms\tremaining: 6.39ms\n",
      "9:\tlearn: 35778.8150975\ttotal: 63.3ms\tremaining: 0us\n",
      "Model trained\n",
      "{}\n",
      "0:\tlearn: 55373.6781394\ttotal: 6.13ms\tremaining: 55.2ms\n",
      "1:\tlearn: 53958.7067849\ttotal: 11.9ms\tremaining: 47.8ms\n",
      "2:\tlearn: 52602.5285429\ttotal: 17.9ms\tremaining: 41.7ms\n",
      "3:\tlearn: 51365.9537390\ttotal: 23.8ms\tremaining: 35.7ms\n",
      "4:\tlearn: 50237.5395696\ttotal: 30.3ms\tremaining: 30.3ms\n",
      "5:\tlearn: 49039.2730233\ttotal: 36.7ms\tremaining: 24.5ms\n",
      "6:\tlearn: 47943.2479443\ttotal: 42ms\tremaining: 18ms\n",
      "7:\tlearn: 46784.5962054\ttotal: 48.1ms\tremaining: 12ms\n",
      "8:\tlearn: 45869.0860682\ttotal: 53.6ms\tremaining: 5.96ms\n",
      "9:\tlearn: 44800.7089350\ttotal: 58.9ms\tremaining: 0us\n",
      "Model trained\n",
      "{}\n",
      "0:\tlearn: 16180.3450681\ttotal: 6.57ms\tremaining: 59.2ms\n",
      "1:\tlearn: 15790.4182062\ttotal: 12.4ms\tremaining: 49.6ms\n",
      "2:\tlearn: 15484.4720168\ttotal: 19.9ms\tremaining: 46.4ms\n",
      "3:\tlearn: 15182.1098690\ttotal: 26.1ms\tremaining: 39.1ms\n",
      "4:\tlearn: 14864.5125600\ttotal: 32.8ms\tremaining: 32.8ms\n",
      "5:\tlearn: 14581.4720119\ttotal: 39.2ms\tremaining: 26.1ms\n",
      "6:\tlearn: 14309.4910693\ttotal: 45ms\tremaining: 19.3ms\n",
      "7:\tlearn: 14000.6432356\ttotal: 51.6ms\tremaining: 12.9ms\n",
      "8:\tlearn: 13755.8734310\ttotal: 56.8ms\tremaining: 6.31ms\n",
      "9:\tlearn: 13525.7833474\ttotal: 62.5ms\tremaining: 0us\n",
      "Model trained\n",
      "{}\n",
      "0:\tlearn: 26799.3831850\ttotal: 6.69ms\tremaining: 60.2ms\n",
      "1:\tlearn: 25911.2001315\ttotal: 13ms\tremaining: 52.1ms\n",
      "2:\tlearn: 25088.8544143\ttotal: 19.6ms\tremaining: 45.6ms\n",
      "3:\tlearn: 24211.4992774\ttotal: 26.3ms\tremaining: 39.4ms\n",
      "4:\tlearn: 23372.6231211\ttotal: 32.2ms\tremaining: 32.2ms\n",
      "5:\tlearn: 22669.9589117\ttotal: 39.2ms\tremaining: 26.1ms\n",
      "6:\tlearn: 21923.4113872\ttotal: 45.2ms\tremaining: 19.4ms\n",
      "7:\tlearn: 21293.4410587\ttotal: 51.3ms\tremaining: 12.8ms\n",
      "8:\tlearn: 20699.4498261\ttotal: 57.3ms\tremaining: 6.37ms\n",
      "9:\tlearn: 20113.1540480\ttotal: 63.1ms\tremaining: 0us\n",
      "Model trained\n",
      "{}\n",
      "0:\tlearn: 17682.2427550\ttotal: 5.19ms\tremaining: 46.7ms\n",
      "1:\tlearn: 17416.7591247\ttotal: 10.1ms\tremaining: 40.5ms\n",
      "2:\tlearn: 17212.9626912\ttotal: 15.3ms\tremaining: 35.7ms\n",
      "3:\tlearn: 16957.3147728\ttotal: 20.8ms\tremaining: 31.1ms\n",
      "4:\tlearn: 16734.4334388\ttotal: 26.2ms\tremaining: 26.2ms\n",
      "5:\tlearn: 16517.6834318\ttotal: 31.4ms\tremaining: 20.9ms\n",
      "6:\tlearn: 16312.3446498\ttotal: 36.1ms\tremaining: 15.5ms\n",
      "7:\tlearn: 16063.2438942\ttotal: 41ms\tremaining: 10.2ms\n",
      "8:\tlearn: 15859.0478687\ttotal: 45.8ms\tremaining: 5.09ms\n",
      "9:\tlearn: 15685.1776295\ttotal: 50.3ms\tremaining: 0us\n",
      "Model trained\n",
      "{}\n",
      "0:\tlearn: 33881.7109416\ttotal: 5.77ms\tremaining: 51.9ms\n",
      "1:\tlearn: 33193.7815117\ttotal: 11.8ms\tremaining: 47.2ms\n",
      "2:\tlearn: 32673.9463813\ttotal: 17.7ms\tremaining: 41.2ms\n",
      "3:\tlearn: 32071.8036962\ttotal: 23.5ms\tremaining: 35.2ms\n",
      "4:\tlearn: 31509.5067226\ttotal: 29.6ms\tremaining: 29.6ms\n",
      "5:\tlearn: 30985.2483106\ttotal: 35.5ms\tremaining: 23.7ms\n",
      "6:\tlearn: 30459.9495637\ttotal: 41.1ms\tremaining: 17.6ms\n",
      "7:\tlearn: 30151.1914421\ttotal: 41.9ms\tremaining: 10.5ms\n",
      "8:\tlearn: 29737.5256820\ttotal: 47.7ms\tremaining: 5.3ms\n",
      "9:\tlearn: 29218.6123721\ttotal: 53.5ms\tremaining: 0us\n",
      "Model trained\n",
      "{}\n",
      "0:\tlearn: 29680.6583173\ttotal: 6.11ms\tremaining: 55ms\n",
      "1:\tlearn: 28885.8563591\ttotal: 11.7ms\tremaining: 46.9ms\n",
      "2:\tlearn: 28244.7295003\ttotal: 17.9ms\tremaining: 41.8ms\n",
      "3:\tlearn: 27542.3077787\ttotal: 25.2ms\tremaining: 37.8ms\n",
      "4:\tlearn: 26872.1457926\ttotal: 32.2ms\tremaining: 32.2ms\n",
      "5:\tlearn: 26261.8678252\ttotal: 39.1ms\tremaining: 26.1ms\n",
      "6:\tlearn: 25647.5838358\ttotal: 45.5ms\tremaining: 19.5ms\n",
      "7:\tlearn: 25125.9904374\ttotal: 52.9ms\tremaining: 13.2ms\n",
      "8:\tlearn: 24645.4512698\ttotal: 59.5ms\tremaining: 6.62ms\n",
      "9:\tlearn: 24171.1345168\ttotal: 65.7ms\tremaining: 0us\n",
      "Model trained\n",
      "{}\n",
      "0:\tlearn: 39328.0486139\ttotal: 6.65ms\tremaining: 59.9ms\n",
      "1:\tlearn: 38503.0964106\ttotal: 13.1ms\tremaining: 52.4ms\n",
      "2:\tlearn: 37797.1230956\ttotal: 19.2ms\tremaining: 44.9ms\n",
      "3:\tlearn: 37010.8246341\ttotal: 25.3ms\tremaining: 38ms\n",
      "4:\tlearn: 36268.4644299\ttotal: 31.8ms\tremaining: 31.8ms\n",
      "5:\tlearn: 35589.1517974\ttotal: 37.9ms\tremaining: 25.3ms\n",
      "6:\tlearn: 34949.6825535\ttotal: 43.8ms\tremaining: 18.8ms\n",
      "7:\tlearn: 34279.1867566\ttotal: 49.9ms\tremaining: 12.5ms\n",
      "8:\tlearn: 33618.8093592\ttotal: 55.9ms\tremaining: 6.21ms\n",
      "9:\tlearn: 33033.3480221\ttotal: 61.5ms\tremaining: 0us\n",
      "Model trained\n",
      "{}\n",
      "0:\tlearn: 32805.0374507\ttotal: 5.37ms\tremaining: 48.3ms\n",
      "1:\tlearn: 31903.6457766\ttotal: 10.8ms\tremaining: 43.1ms\n",
      "2:\tlearn: 31093.2742765\ttotal: 16.2ms\tremaining: 37.8ms\n",
      "3:\tlearn: 30350.0806674\ttotal: 21.6ms\tremaining: 32.4ms\n",
      "4:\tlearn: 29561.4616206\ttotal: 27.3ms\tremaining: 27.3ms\n",
      "5:\tlearn: 28875.8116262\ttotal: 32.9ms\tremaining: 22ms\n",
      "6:\tlearn: 28155.8454959\ttotal: 37.9ms\tremaining: 16.2ms\n",
      "7:\tlearn: 27534.6705967\ttotal: 43.4ms\tremaining: 10.9ms\n",
      "8:\tlearn: 26961.0046236\ttotal: 48.4ms\tremaining: 5.38ms\n",
      "9:\tlearn: 26414.7137295\ttotal: 53.5ms\tremaining: 0us\n",
      "Model trained\n",
      "{}\n",
      "0:\tlearn: 30818.1544044\ttotal: 6.66ms\tremaining: 59.9ms\n",
      "1:\tlearn: 30172.9537922\ttotal: 13.6ms\tremaining: 54.3ms\n",
      "2:\tlearn: 29646.5815065\ttotal: 20.6ms\tremaining: 48.1ms\n",
      "3:\tlearn: 29073.6415114\ttotal: 27.8ms\tremaining: 41.7ms\n",
      "4:\tlearn: 28529.2783764\ttotal: 34.9ms\tremaining: 34.9ms\n",
      "5:\tlearn: 28051.8483608\ttotal: 41.4ms\tremaining: 27.6ms\n",
      "6:\tlearn: 27580.2638107\ttotal: 47.3ms\tremaining: 20.3ms\n",
      "7:\tlearn: 27124.0697238\ttotal: 54.9ms\tremaining: 13.7ms\n",
      "8:\tlearn: 26739.6247907\ttotal: 61.3ms\tremaining: 6.8ms\n",
      "9:\tlearn: 26355.4855159\ttotal: 67.3ms\tremaining: 0us\n",
      "Model trained\n",
      "{}\n",
      "0:\tlearn: 31699.3680842\ttotal: 5.22ms\tremaining: 47ms\n",
      "1:\tlearn: 30955.9974939\ttotal: 10ms\tremaining: 40.2ms\n",
      "2:\tlearn: 30168.7747111\ttotal: 14.7ms\tremaining: 34.4ms\n",
      "3:\tlearn: 29419.2083684\ttotal: 19.4ms\tremaining: 29ms\n",
      "4:\tlearn: 28725.6070698\ttotal: 24ms\tremaining: 24ms\n",
      "5:\tlearn: 28113.4397363\ttotal: 28.5ms\tremaining: 19ms\n",
      "6:\tlearn: 27540.2211383\ttotal: 32.9ms\tremaining: 14.1ms\n",
      "7:\tlearn: 26921.8271511\ttotal: 37.8ms\tremaining: 9.46ms\n",
      "8:\tlearn: 26427.6859073\ttotal: 42.2ms\tremaining: 4.69ms\n",
      "9:\tlearn: 25896.6626800\ttotal: 46.4ms\tremaining: 0us\n",
      "Model trained\n",
      "{}\n",
      "0:\tlearn: 27550.1010640\ttotal: 4.79ms\tremaining: 43.1ms\n",
      "1:\tlearn: 27197.7121948\ttotal: 9.9ms\tremaining: 39.6ms\n",
      "2:\tlearn: 26774.8855573\ttotal: 14.8ms\tremaining: 34.6ms\n",
      "3:\tlearn: 26300.1816311\ttotal: 19.5ms\tremaining: 29.3ms\n",
      "4:\tlearn: 25898.6767514\ttotal: 81.3ms\tremaining: 81.3ms\n",
      "5:\tlearn: 25562.6061047\ttotal: 123ms\tremaining: 82.1ms\n",
      "6:\tlearn: 25270.2880301\ttotal: 135ms\tremaining: 58ms\n",
      "7:\tlearn: 24968.2055243\ttotal: 146ms\tremaining: 36.5ms\n",
      "8:\tlearn: 24649.6997774\ttotal: 192ms\tremaining: 21.3ms\n",
      "9:\tlearn: 24364.5540016\ttotal: 266ms\tremaining: 0us\n",
      "Model trained\n",
      "Model trained\n",
      "{\n",
      "    \"0.0\": 26031.076855614414,\n",
      "    \"1.0\": 3391.46210675567,\n",
      "    \"2.0\": 21199.02532730562,\n",
      "    \"3.0\": 11933.120317095689,\n",
      "    \"4.0\": 32961.47497209855,\n",
      "    \"5.0\": 32200.171914251558,\n",
      "    \"6.0\": 37756.44882186081,\n",
      "    \"7.0\": 9479.600131278366,\n",
      "    \"8.0\": 15129.827942679487,\n",
      "    \"9.0\": 13278.413763894805,\n",
      "    \"10.0\": 23777.910978376927,\n",
      "    \"11.0\": 19151.38677169454,\n",
      "    \"12.0\": 24726.813258664995,\n",
      "    \"13.0\": 21438.627847467087,\n",
      "    \"14.0\": 14612.137875745993,\n",
      "    \"15.0\": 15733.502938466101,\n",
      "    \"16.0\": 18006.504630665087\n",
      "}\n",
      "20047.500379642097\n"
     ]
    }
   ],
   "execution_count": 9
  },
  {
   "cell_type": "code",
   "source": [
    "print(sample_model.evaluate(test_dataset_dict))\n",
    "sample_model.save_model(ROOT_PATH / \"checkpoints/stacked_model.pkl\")\n"
   ],
   "metadata": {
    "collapsed": false,
    "ExecuteTime": {
     "end_time": "2024-06-06T17:54:19.179643Z",
     "start_time": "2024-06-06T17:54:19.139079Z"
    }
   },
   "id": "da2672ee289865d6",
   "outputs": [
    {
     "name": "stdout",
     "output_type": "stream",
     "text": [
      "{\n",
      "    \"0.0\": 26031.076855614414,\n",
      "    \"1.0\": 3391.46210675567,\n",
      "    \"2.0\": 21199.02532730562,\n",
      "    \"3.0\": 11933.120317095689,\n",
      "    \"4.0\": 32961.47497209855,\n",
      "    \"5.0\": 32200.171914251558,\n",
      "    \"6.0\": 37756.44882186081,\n",
      "    \"7.0\": 9479.600131278366,\n",
      "    \"8.0\": 15129.827942679487,\n",
      "    \"9.0\": 13278.413763894805,\n",
      "    \"10.0\": 23777.910978376927,\n",
      "    \"11.0\": 19151.38677169454,\n",
      "    \"12.0\": 24726.813258664995,\n",
      "    \"13.0\": 21438.627847467087,\n",
      "    \"14.0\": 14612.137875745993,\n",
      "    \"15.0\": 15733.502938466101,\n",
      "    \"16.0\": 18006.504630665087\n",
      "}\n",
      "20047.500379642097\n",
      "Model saved at /Users/Konstantin.Grotov/Documents/programming/projects/jbr/salary-prediction/checkpoints/stacked_model.pkl\n"
     ]
    }
   ],
   "execution_count": 10
  },
  {
   "cell_type": "code",
   "source": [
    "sample_model = sample_model.load_model(ROOT_PATH / \"checkpoints/stacked_model.pkl\")\n",
    "sample_model.evaluate(test_dataset_dict)"
   ],
   "metadata": {
    "collapsed": false,
    "ExecuteTime": {
     "end_time": "2024-06-06T17:55:19.479588Z",
     "start_time": "2024-06-06T17:55:19.434093Z"
    }
   },
   "id": "51b40dc3d74c7543",
   "outputs": [
    {
     "name": "stdout",
     "output_type": "stream",
     "text": [
      "Model successfully loaded\n",
      "{\n",
      "    \"0.0\": 26031.076855614414,\n",
      "    \"1.0\": 3391.46210675567,\n",
      "    \"2.0\": 21199.02532730562,\n",
      "    \"3.0\": 11933.120317095689,\n",
      "    \"4.0\": 32961.47497209855,\n",
      "    \"5.0\": 32200.171914251558,\n",
      "    \"6.0\": 37756.44882186081,\n",
      "    \"7.0\": 9479.600131278366,\n",
      "    \"8.0\": 15129.827942679487,\n",
      "    \"9.0\": 13278.413763894805,\n",
      "    \"10.0\": 23777.910978376927,\n",
      "    \"11.0\": 19151.38677169454,\n",
      "    \"12.0\": 24726.813258664995,\n",
      "    \"13.0\": 21438.627847467087,\n",
      "    \"14.0\": 14612.137875745993,\n",
      "    \"15.0\": 15733.502938466101,\n",
      "    \"16.0\": 18006.504630665087\n",
      "}\n"
     ]
    },
    {
     "data": {
      "text/plain": [
       "20047.500379642097"
      ]
     },
     "execution_count": 11,
     "metadata": {},
     "output_type": "execute_result"
    }
   ],
   "execution_count": 11
  },
  {
   "cell_type": "code",
   "outputs": [],
   "source": [],
   "metadata": {
    "collapsed": false
   },
   "id": "1573a985d64f7f91",
   "execution_count": null
  }
 ],
 "metadata": {
  "kernelspec": {
   "display_name": "Python 3",
   "language": "python",
   "name": "python3"
  },
  "language_info": {
   "codemirror_mode": {
    "name": "ipython",
    "version": 2
   },
   "file_extension": ".py",
   "mimetype": "text/x-python",
   "name": "python",
   "nbconvert_exporter": "python",
   "pygments_lexer": "ipython2",
   "version": "2.7.6"
  }
 },
 "nbformat": 4,
 "nbformat_minor": 5
}
