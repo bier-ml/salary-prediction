{
 "cells": [
  {
   "cell_type": "code",
   "execution_count": 1,
   "id": "initial_id",
   "metadata": {
    "collapsed": true,
    "ExecuteTime": {
     "end_time": "2023-12-08T10:58:38.334860800Z",
     "start_time": "2023-12-08T10:58:38.192571300Z"
    }
   },
   "outputs": [],
   "source": [
    "import pandas as pd\n",
    "from sklearn.compose import ColumnTransformer\n",
    "from sklearn.impute import SimpleImputer\n",
    "from sklearn.model_selection import train_test_split\n",
    "from sklearn.neighbors import KNeighborsRegressor\n",
    "from sklearn.pipeline import Pipeline\n",
    "from sklearn.preprocessing import StandardScaler, OneHotEncoder\n",
    "import pickle"
   ]
  },
  {
   "cell_type": "code",
   "execution_count": 2,
   "outputs": [],
   "source": [
    "df = pd.read_csv('../data/data_vacancies.csv')"
   ],
   "metadata": {
    "collapsed": false,
    "ExecuteTime": {
     "end_time": "2023-12-08T10:58:39.581091200Z",
     "start_time": "2023-12-08T10:58:38.338154800Z"
    }
   },
   "id": "61389dea183621f7"
  },
  {
   "cell_type": "code",
   "execution_count": 3,
   "outputs": [
    {
     "data": {
      "text/plain": "id                         0\ncustom_position            0\nschedule                   0\nsalary_from                0\nsalary_to                  0\nsalary_pay_type        19383\noffer_education_id         0\neducation_name             0\neducation_is_base          0\neducation_order_num        0\ncity_id                    0\nlist_regions               0\nwork_skills                0\ntags_id                 5999\ndtype: int64"
     },
     "execution_count": 3,
     "metadata": {},
     "output_type": "execute_result"
    }
   ],
   "source": [
    "df.isnull().sum()"
   ],
   "metadata": {
    "collapsed": false,
    "ExecuteTime": {
     "end_time": "2023-12-08T10:58:39.604004900Z",
     "start_time": "2023-12-08T10:58:39.581091200Z"
    }
   },
   "id": "74e1298ddc1d9672"
  },
  {
   "cell_type": "code",
   "execution_count": 4,
   "outputs": [
    {
     "data": {
      "text/plain": "         id    custom_position             schedule  salary_from  salary_to  \\\n0  48202096    Сварщик-сборщик  полный рабочий день        60000     120000   \n1  48202097  Сварщик-монтажник  полный рабочий день        60000     120000   \n2  48202098    Слесарь-сборщик  полный рабочий день        60000      80000   \n3  48202356  Грузчик-упаковщик  частичная занятость        30000      35000   \n4  48202357  Грузчик-упаковщик  частичная занятость        30000      35000   \n\n  salary_pay_type  offer_education_id education_name  education_is_base  \\\n0             NaN                   0          любое               True   \n1             NaN                   0          любое               True   \n2             NaN                   0          любое               True   \n3             NaN                   0          любое               True   \n4             NaN                   0          любое               True   \n\n   education_order_num  city_id  \\\n0                    0        2   \n1                    0        2   \n2                    0        2   \n3                    0        1   \n4                    0       57   \n\n                                        list_regions  \\\n0                                                [4]   \n1                                                [4]   \n2                                                [4]   \n3                                                [3]   \n4  [181, 182, 183, 185, 186, 187, 188, 189, 190, ...   \n\n                                         work_skills tags_id  \n0  ['сварочные работы', 'сборка изделий по чертеж...     NaN  \n1  ['монтажные работы', 'строительные работы', 'э...     NaN  \n2  ['работа на фрезерных станках', 'слесарный рем...     NaN  \n3  ['комплектация товара', 'маркировка', 'стрессо...  [6, 9]  \n4  ['маркировка', 'стрессоустойчивость', 'погрузо...  [6, 9]  ",
      "text/html": "<div>\n<style scoped>\n    .dataframe tbody tr th:only-of-type {\n        vertical-align: middle;\n    }\n\n    .dataframe tbody tr th {\n        vertical-align: top;\n    }\n\n    .dataframe thead th {\n        text-align: right;\n    }\n</style>\n<table border=\"1\" class=\"dataframe\">\n  <thead>\n    <tr style=\"text-align: right;\">\n      <th></th>\n      <th>id</th>\n      <th>custom_position</th>\n      <th>schedule</th>\n      <th>salary_from</th>\n      <th>salary_to</th>\n      <th>salary_pay_type</th>\n      <th>offer_education_id</th>\n      <th>education_name</th>\n      <th>education_is_base</th>\n      <th>education_order_num</th>\n      <th>city_id</th>\n      <th>list_regions</th>\n      <th>work_skills</th>\n      <th>tags_id</th>\n    </tr>\n  </thead>\n  <tbody>\n    <tr>\n      <th>0</th>\n      <td>48202096</td>\n      <td>Сварщик-сборщик</td>\n      <td>полный рабочий день</td>\n      <td>60000</td>\n      <td>120000</td>\n      <td>NaN</td>\n      <td>0</td>\n      <td>любое</td>\n      <td>True</td>\n      <td>0</td>\n      <td>2</td>\n      <td>[4]</td>\n      <td>['сварочные работы', 'сборка изделий по чертеж...</td>\n      <td>NaN</td>\n    </tr>\n    <tr>\n      <th>1</th>\n      <td>48202097</td>\n      <td>Сварщик-монтажник</td>\n      <td>полный рабочий день</td>\n      <td>60000</td>\n      <td>120000</td>\n      <td>NaN</td>\n      <td>0</td>\n      <td>любое</td>\n      <td>True</td>\n      <td>0</td>\n      <td>2</td>\n      <td>[4]</td>\n      <td>['монтажные работы', 'строительные работы', 'э...</td>\n      <td>NaN</td>\n    </tr>\n    <tr>\n      <th>2</th>\n      <td>48202098</td>\n      <td>Слесарь-сборщик</td>\n      <td>полный рабочий день</td>\n      <td>60000</td>\n      <td>80000</td>\n      <td>NaN</td>\n      <td>0</td>\n      <td>любое</td>\n      <td>True</td>\n      <td>0</td>\n      <td>2</td>\n      <td>[4]</td>\n      <td>['работа на фрезерных станках', 'слесарный рем...</td>\n      <td>NaN</td>\n    </tr>\n    <tr>\n      <th>3</th>\n      <td>48202356</td>\n      <td>Грузчик-упаковщик</td>\n      <td>частичная занятость</td>\n      <td>30000</td>\n      <td>35000</td>\n      <td>NaN</td>\n      <td>0</td>\n      <td>любое</td>\n      <td>True</td>\n      <td>0</td>\n      <td>1</td>\n      <td>[3]</td>\n      <td>['комплектация товара', 'маркировка', 'стрессо...</td>\n      <td>[6, 9]</td>\n    </tr>\n    <tr>\n      <th>4</th>\n      <td>48202357</td>\n      <td>Грузчик-упаковщик</td>\n      <td>частичная занятость</td>\n      <td>30000</td>\n      <td>35000</td>\n      <td>NaN</td>\n      <td>0</td>\n      <td>любое</td>\n      <td>True</td>\n      <td>0</td>\n      <td>57</td>\n      <td>[181, 182, 183, 185, 186, 187, 188, 189, 190, ...</td>\n      <td>['маркировка', 'стрессоустойчивость', 'погрузо...</td>\n      <td>[6, 9]</td>\n    </tr>\n  </tbody>\n</table>\n</div>"
     },
     "execution_count": 4,
     "metadata": {},
     "output_type": "execute_result"
    }
   ],
   "source": [
    "df.head()"
   ],
   "metadata": {
    "collapsed": false,
    "ExecuteTime": {
     "end_time": "2023-12-08T10:58:39.614059900Z",
     "start_time": "2023-12-08T10:58:39.609036700Z"
    }
   },
   "id": "8f15660d24efa32a"
  },
  {
   "cell_type": "code",
   "execution_count": 5,
   "outputs": [],
   "source": [
    "X = df[['custom_position', 'schedule', 'city_id']]\n",
    "# 'salary_from', 'offer_education_id', 'work_skills',  'list_regions', 'tags_id'\n",
    "y = df['salary_to']\n",
    "\n",
    "X_train, X_test, y_train, y_test = train_test_split(X, y, test_size=0.2, random_state=42)"
   ],
   "metadata": {
    "collapsed": false,
    "ExecuteTime": {
     "end_time": "2023-12-08T10:58:39.622264Z",
     "start_time": "2023-12-08T10:58:39.612446300Z"
    }
   },
   "id": "a948001c4dd98057"
  },
  {
   "cell_type": "code",
   "execution_count": 6,
   "outputs": [],
   "source": [
    "# numeric_features = ['salary_from']\n",
    "# numeric_transformer = Pipeline(steps=[\n",
    "#     ('imputer', SimpleImputer(strategy='median')),\n",
    "#     ('scaler', StandardScaler())\n",
    "# ])"
   ],
   "metadata": {
    "collapsed": false,
    "ExecuteTime": {
     "end_time": "2023-12-08T10:58:39.632587900Z",
     "start_time": "2023-12-08T10:58:39.621246600Z"
    }
   },
   "id": "a389a94cc5f10627"
  },
  {
   "cell_type": "code",
   "execution_count": 7,
   "outputs": [],
   "source": [
    "categorical_features = ['custom_position', 'schedule', 'city_id']\n",
    "# 'list_regions' 'offer_education_id'\n",
    "categorical_transformer = Pipeline(steps=[\n",
    "    ('imputer', SimpleImputer(strategy='most_frequent')),\n",
    "    ('onehot', OneHotEncoder(handle_unknown='ignore'))\n",
    "])"
   ],
   "metadata": {
    "collapsed": false,
    "ExecuteTime": {
     "end_time": "2023-12-08T10:58:39.632587900Z",
     "start_time": "2023-12-08T10:58:39.630587500Z"
    }
   },
   "id": "9efaa7bb2c361594"
  },
  {
   "cell_type": "code",
   "execution_count": 8,
   "outputs": [],
   "source": [
    "preprocessor = ColumnTransformer(\n",
    "    transformers=[\n",
    "        # ('num', numeric_transformer, numeric_features),\n",
    "        ('cat', categorical_transformer, categorical_features)\n",
    "    ])"
   ],
   "metadata": {
    "collapsed": false,
    "ExecuteTime": {
     "end_time": "2023-12-08T10:58:39.660303Z",
     "start_time": "2023-12-08T10:58:39.634205100Z"
    }
   },
   "id": "22822082935ddd96"
  },
  {
   "cell_type": "code",
   "execution_count": 9,
   "outputs": [],
   "source": [
    "knn_model = Pipeline(steps=[('preprocessor', preprocessor),\n",
    "                            ('regressor', KNeighborsRegressor(n_neighbors=5))])"
   ],
   "metadata": {
    "collapsed": false,
    "ExecuteTime": {
     "end_time": "2023-12-08T10:58:39.661300700Z",
     "start_time": "2023-12-08T10:58:39.640797500Z"
    }
   },
   "id": "7929fd60e611fad4"
  },
  {
   "cell_type": "code",
   "execution_count": 10,
   "outputs": [
    {
     "data": {
      "text/plain": "Pipeline(steps=[('preprocessor',\n                 ColumnTransformer(transformers=[('cat',\n                                                  Pipeline(steps=[('imputer',\n                                                                   SimpleImputer(strategy='most_frequent')),\n                                                                  ('onehot',\n                                                                   OneHotEncoder(handle_unknown='ignore'))]),\n                                                  ['custom_position',\n                                                   'schedule', 'city_id'])])),\n                ('regressor', KNeighborsRegressor())])",
      "text/html": "<style>#sk-container-id-1 {color: black;}#sk-container-id-1 pre{padding: 0;}#sk-container-id-1 div.sk-toggleable {background-color: white;}#sk-container-id-1 label.sk-toggleable__label {cursor: pointer;display: block;width: 100%;margin-bottom: 0;padding: 0.3em;box-sizing: border-box;text-align: center;}#sk-container-id-1 label.sk-toggleable__label-arrow:before {content: \"▸\";float: left;margin-right: 0.25em;color: #696969;}#sk-container-id-1 label.sk-toggleable__label-arrow:hover:before {color: black;}#sk-container-id-1 div.sk-estimator:hover label.sk-toggleable__label-arrow:before {color: black;}#sk-container-id-1 div.sk-toggleable__content {max-height: 0;max-width: 0;overflow: hidden;text-align: left;background-color: #f0f8ff;}#sk-container-id-1 div.sk-toggleable__content pre {margin: 0.2em;color: black;border-radius: 0.25em;background-color: #f0f8ff;}#sk-container-id-1 input.sk-toggleable__control:checked~div.sk-toggleable__content {max-height: 200px;max-width: 100%;overflow: auto;}#sk-container-id-1 input.sk-toggleable__control:checked~label.sk-toggleable__label-arrow:before {content: \"▾\";}#sk-container-id-1 div.sk-estimator input.sk-toggleable__control:checked~label.sk-toggleable__label {background-color: #d4ebff;}#sk-container-id-1 div.sk-label input.sk-toggleable__control:checked~label.sk-toggleable__label {background-color: #d4ebff;}#sk-container-id-1 input.sk-hidden--visually {border: 0;clip: rect(1px 1px 1px 1px);clip: rect(1px, 1px, 1px, 1px);height: 1px;margin: -1px;overflow: hidden;padding: 0;position: absolute;width: 1px;}#sk-container-id-1 div.sk-estimator {font-family: monospace;background-color: #f0f8ff;border: 1px dotted black;border-radius: 0.25em;box-sizing: border-box;margin-bottom: 0.5em;}#sk-container-id-1 div.sk-estimator:hover {background-color: #d4ebff;}#sk-container-id-1 div.sk-parallel-item::after {content: \"\";width: 100%;border-bottom: 1px solid gray;flex-grow: 1;}#sk-container-id-1 div.sk-label:hover label.sk-toggleable__label {background-color: #d4ebff;}#sk-container-id-1 div.sk-serial::before {content: \"\";position: absolute;border-left: 1px solid gray;box-sizing: border-box;top: 0;bottom: 0;left: 50%;z-index: 0;}#sk-container-id-1 div.sk-serial {display: flex;flex-direction: column;align-items: center;background-color: white;padding-right: 0.2em;padding-left: 0.2em;position: relative;}#sk-container-id-1 div.sk-item {position: relative;z-index: 1;}#sk-container-id-1 div.sk-parallel {display: flex;align-items: stretch;justify-content: center;background-color: white;position: relative;}#sk-container-id-1 div.sk-item::before, #sk-container-id-1 div.sk-parallel-item::before {content: \"\";position: absolute;border-left: 1px solid gray;box-sizing: border-box;top: 0;bottom: 0;left: 50%;z-index: -1;}#sk-container-id-1 div.sk-parallel-item {display: flex;flex-direction: column;z-index: 1;position: relative;background-color: white;}#sk-container-id-1 div.sk-parallel-item:first-child::after {align-self: flex-end;width: 50%;}#sk-container-id-1 div.sk-parallel-item:last-child::after {align-self: flex-start;width: 50%;}#sk-container-id-1 div.sk-parallel-item:only-child::after {width: 0;}#sk-container-id-1 div.sk-dashed-wrapped {border: 1px dashed gray;margin: 0 0.4em 0.5em 0.4em;box-sizing: border-box;padding-bottom: 0.4em;background-color: white;}#sk-container-id-1 div.sk-label label {font-family: monospace;font-weight: bold;display: inline-block;line-height: 1.2em;}#sk-container-id-1 div.sk-label-container {text-align: center;}#sk-container-id-1 div.sk-container {/* jupyter's `normalize.less` sets `[hidden] { display: none; }` but bootstrap.min.css set `[hidden] { display: none !important; }` so we also need the `!important` here to be able to override the default hidden behavior on the sphinx rendered scikit-learn.org. See: https://github.com/scikit-learn/scikit-learn/issues/21755 */display: inline-block !important;position: relative;}#sk-container-id-1 div.sk-text-repr-fallback {display: none;}</style><div id=\"sk-container-id-1\" class=\"sk-top-container\"><div class=\"sk-text-repr-fallback\"><pre>Pipeline(steps=[(&#x27;preprocessor&#x27;,\n                 ColumnTransformer(transformers=[(&#x27;cat&#x27;,\n                                                  Pipeline(steps=[(&#x27;imputer&#x27;,\n                                                                   SimpleImputer(strategy=&#x27;most_frequent&#x27;)),\n                                                                  (&#x27;onehot&#x27;,\n                                                                   OneHotEncoder(handle_unknown=&#x27;ignore&#x27;))]),\n                                                  [&#x27;custom_position&#x27;,\n                                                   &#x27;schedule&#x27;, &#x27;city_id&#x27;])])),\n                (&#x27;regressor&#x27;, KNeighborsRegressor())])</pre><b>In a Jupyter environment, please rerun this cell to show the HTML representation or trust the notebook. <br />On GitHub, the HTML representation is unable to render, please try loading this page with nbviewer.org.</b></div><div class=\"sk-container\" hidden><div class=\"sk-item sk-dashed-wrapped\"><div class=\"sk-label-container\"><div class=\"sk-label sk-toggleable\"><input class=\"sk-toggleable__control sk-hidden--visually\" id=\"sk-estimator-id-1\" type=\"checkbox\" ><label for=\"sk-estimator-id-1\" class=\"sk-toggleable__label sk-toggleable__label-arrow\">Pipeline</label><div class=\"sk-toggleable__content\"><pre>Pipeline(steps=[(&#x27;preprocessor&#x27;,\n                 ColumnTransformer(transformers=[(&#x27;cat&#x27;,\n                                                  Pipeline(steps=[(&#x27;imputer&#x27;,\n                                                                   SimpleImputer(strategy=&#x27;most_frequent&#x27;)),\n                                                                  (&#x27;onehot&#x27;,\n                                                                   OneHotEncoder(handle_unknown=&#x27;ignore&#x27;))]),\n                                                  [&#x27;custom_position&#x27;,\n                                                   &#x27;schedule&#x27;, &#x27;city_id&#x27;])])),\n                (&#x27;regressor&#x27;, KNeighborsRegressor())])</pre></div></div></div><div class=\"sk-serial\"><div class=\"sk-item sk-dashed-wrapped\"><div class=\"sk-label-container\"><div class=\"sk-label sk-toggleable\"><input class=\"sk-toggleable__control sk-hidden--visually\" id=\"sk-estimator-id-2\" type=\"checkbox\" ><label for=\"sk-estimator-id-2\" class=\"sk-toggleable__label sk-toggleable__label-arrow\">preprocessor: ColumnTransformer</label><div class=\"sk-toggleable__content\"><pre>ColumnTransformer(transformers=[(&#x27;cat&#x27;,\n                                 Pipeline(steps=[(&#x27;imputer&#x27;,\n                                                  SimpleImputer(strategy=&#x27;most_frequent&#x27;)),\n                                                 (&#x27;onehot&#x27;,\n                                                  OneHotEncoder(handle_unknown=&#x27;ignore&#x27;))]),\n                                 [&#x27;custom_position&#x27;, &#x27;schedule&#x27;, &#x27;city_id&#x27;])])</pre></div></div></div><div class=\"sk-parallel\"><div class=\"sk-parallel-item\"><div class=\"sk-item\"><div class=\"sk-label-container\"><div class=\"sk-label sk-toggleable\"><input class=\"sk-toggleable__control sk-hidden--visually\" id=\"sk-estimator-id-3\" type=\"checkbox\" ><label for=\"sk-estimator-id-3\" class=\"sk-toggleable__label sk-toggleable__label-arrow\">cat</label><div class=\"sk-toggleable__content\"><pre>[&#x27;custom_position&#x27;, &#x27;schedule&#x27;, &#x27;city_id&#x27;]</pre></div></div></div><div class=\"sk-serial\"><div class=\"sk-item\"><div class=\"sk-serial\"><div class=\"sk-item\"><div class=\"sk-estimator sk-toggleable\"><input class=\"sk-toggleable__control sk-hidden--visually\" id=\"sk-estimator-id-4\" type=\"checkbox\" ><label for=\"sk-estimator-id-4\" class=\"sk-toggleable__label sk-toggleable__label-arrow\">SimpleImputer</label><div class=\"sk-toggleable__content\"><pre>SimpleImputer(strategy=&#x27;most_frequent&#x27;)</pre></div></div></div><div class=\"sk-item\"><div class=\"sk-estimator sk-toggleable\"><input class=\"sk-toggleable__control sk-hidden--visually\" id=\"sk-estimator-id-5\" type=\"checkbox\" ><label for=\"sk-estimator-id-5\" class=\"sk-toggleable__label sk-toggleable__label-arrow\">OneHotEncoder</label><div class=\"sk-toggleable__content\"><pre>OneHotEncoder(handle_unknown=&#x27;ignore&#x27;)</pre></div></div></div></div></div></div></div></div></div></div><div class=\"sk-item\"><div class=\"sk-estimator sk-toggleable\"><input class=\"sk-toggleable__control sk-hidden--visually\" id=\"sk-estimator-id-6\" type=\"checkbox\" ><label for=\"sk-estimator-id-6\" class=\"sk-toggleable__label sk-toggleable__label-arrow\">KNeighborsRegressor</label><div class=\"sk-toggleable__content\"><pre>KNeighborsRegressor()</pre></div></div></div></div></div></div></div>"
     },
     "execution_count": 10,
     "metadata": {},
     "output_type": "execute_result"
    }
   ],
   "source": [
    "knn_model.fit(X_train, y_train)"
   ],
   "metadata": {
    "collapsed": false,
    "ExecuteTime": {
     "end_time": "2023-12-08T10:58:39.714506800Z",
     "start_time": "2023-12-08T10:58:39.646890900Z"
    }
   },
   "id": "40f57b8339ebf08"
  },
  {
   "cell_type": "code",
   "execution_count": 11,
   "outputs": [],
   "source": [
    "y_pred = knn_model.predict(X_test)"
   ],
   "metadata": {
    "collapsed": false,
    "ExecuteTime": {
     "end_time": "2023-12-08T10:58:39.923280800Z",
     "start_time": "2023-12-08T10:58:39.709229300Z"
    }
   },
   "id": "166d1609db414706"
  },
  {
   "cell_type": "code",
   "execution_count": 12,
   "outputs": [
    {
     "data": {
      "text/plain": "array([113800., 136000.,  55000., ...,  57600.,  67000.,  81488.])"
     },
     "execution_count": 12,
     "metadata": {},
     "output_type": "execute_result"
    }
   ],
   "source": [
    "y_pred"
   ],
   "metadata": {
    "collapsed": false,
    "ExecuteTime": {
     "end_time": "2023-12-08T10:58:39.932075900Z",
     "start_time": "2023-12-08T10:58:39.925414900Z"
    }
   },
   "id": "5424116a136a02b8"
  },
  {
   "cell_type": "code",
   "execution_count": 13,
   "outputs": [
    {
     "name": "stdout",
     "output_type": "stream",
     "text": [
      "30371.66146741919\n"
     ]
    }
   ],
   "source": [
    "from sklearn.metrics import mean_absolute_error\n",
    "\n",
    "print(mean_absolute_error(y_test, y_pred))"
   ],
   "metadata": {
    "collapsed": false,
    "ExecuteTime": {
     "end_time": "2023-12-08T10:58:39.940468400Z",
     "start_time": "2023-12-08T10:58:39.930912300Z"
    }
   },
   "id": "a49517d0f12c8ad8"
  },
  {
   "cell_type": "code",
   "execution_count": 14,
   "outputs": [
    {
     "data": {
      "text/plain": "     custom_position             schedule  city_id\n0    Сварщик-сборщик  полный рабочий день        2\n1  Сварщик-монтажник  полный рабочий день        2\n2    Слесарь-сборщик  полный рабочий день        2\n3  Грузчик-упаковщик  частичная занятость        1\n4  Грузчик-упаковщик  частичная занятость       57",
      "text/html": "<div>\n<style scoped>\n    .dataframe tbody tr th:only-of-type {\n        vertical-align: middle;\n    }\n\n    .dataframe tbody tr th {\n        vertical-align: top;\n    }\n\n    .dataframe thead th {\n        text-align: right;\n    }\n</style>\n<table border=\"1\" class=\"dataframe\">\n  <thead>\n    <tr style=\"text-align: right;\">\n      <th></th>\n      <th>custom_position</th>\n      <th>schedule</th>\n      <th>city_id</th>\n    </tr>\n  </thead>\n  <tbody>\n    <tr>\n      <th>0</th>\n      <td>Сварщик-сборщик</td>\n      <td>полный рабочий день</td>\n      <td>2</td>\n    </tr>\n    <tr>\n      <th>1</th>\n      <td>Сварщик-монтажник</td>\n      <td>полный рабочий день</td>\n      <td>2</td>\n    </tr>\n    <tr>\n      <th>2</th>\n      <td>Слесарь-сборщик</td>\n      <td>полный рабочий день</td>\n      <td>2</td>\n    </tr>\n    <tr>\n      <th>3</th>\n      <td>Грузчик-упаковщик</td>\n      <td>частичная занятость</td>\n      <td>1</td>\n    </tr>\n    <tr>\n      <th>4</th>\n      <td>Грузчик-упаковщик</td>\n      <td>частичная занятость</td>\n      <td>57</td>\n    </tr>\n  </tbody>\n</table>\n</div>"
     },
     "execution_count": 14,
     "metadata": {},
     "output_type": "execute_result"
    }
   ],
   "source": [
    "X.head()"
   ],
   "metadata": {
    "collapsed": false,
    "ExecuteTime": {
     "end_time": "2023-12-08T10:58:39.967712500Z",
     "start_time": "2023-12-08T10:58:39.937688700Z"
    }
   },
   "id": "4e41d434f177ebec"
  },
  {
   "cell_type": "code",
   "execution_count": 15,
   "outputs": [],
   "source": [
    "test_value = X.head(1).copy()"
   ],
   "metadata": {
    "collapsed": false,
    "ExecuteTime": {
     "end_time": "2023-12-08T10:58:39.968842400Z",
     "start_time": "2023-12-08T10:58:39.947788600Z"
    }
   },
   "id": "245917cbff344d6b"
  },
  {
   "cell_type": "code",
   "execution_count": 16,
   "outputs": [],
   "source": [
    "test_value = test_value[['custom_position', 'schedule', 'city_id']].copy()\n",
    "test_value.loc[:, 'custom_position'] = 'строитель'\n",
    "test_value.loc[:, 'city_id'] = 2"
   ],
   "metadata": {
    "collapsed": false,
    "ExecuteTime": {
     "end_time": "2023-12-08T10:58:39.968842400Z",
     "start_time": "2023-12-08T10:58:39.954604500Z"
    }
   },
   "id": "f9df50022f74638e"
  },
  {
   "cell_type": "code",
   "execution_count": 17,
   "outputs": [
    {
     "data": {
      "text/plain": "  custom_position             schedule  city_id\n0       строитель  полный рабочий день        2",
      "text/html": "<div>\n<style scoped>\n    .dataframe tbody tr th:only-of-type {\n        vertical-align: middle;\n    }\n\n    .dataframe tbody tr th {\n        vertical-align: top;\n    }\n\n    .dataframe thead th {\n        text-align: right;\n    }\n</style>\n<table border=\"1\" class=\"dataframe\">\n  <thead>\n    <tr style=\"text-align: right;\">\n      <th></th>\n      <th>custom_position</th>\n      <th>schedule</th>\n      <th>city_id</th>\n    </tr>\n  </thead>\n  <tbody>\n    <tr>\n      <th>0</th>\n      <td>строитель</td>\n      <td>полный рабочий день</td>\n      <td>2</td>\n    </tr>\n  </tbody>\n</table>\n</div>"
     },
     "execution_count": 17,
     "metadata": {},
     "output_type": "execute_result"
    }
   ],
   "source": [
    "test_value"
   ],
   "metadata": {
    "collapsed": false,
    "ExecuteTime": {
     "end_time": "2023-12-08T10:58:39.990167Z",
     "start_time": "2023-12-08T10:58:39.967136500Z"
    }
   },
   "id": "59bbd8fb13765a13"
  },
  {
   "cell_type": "code",
   "execution_count": 18,
   "outputs": [
    {
     "data": {
      "text/plain": "array([92000.])"
     },
     "execution_count": 18,
     "metadata": {},
     "output_type": "execute_result"
    }
   ],
   "source": [
    "knn_model.predict(test_value)"
   ],
   "metadata": {
    "collapsed": false,
    "ExecuteTime": {
     "end_time": "2023-12-08T10:58:40.015786500Z",
     "start_time": "2023-12-08T10:58:39.970500700Z"
    }
   },
   "id": "bbc18e954bf36893"
  },
  {
   "cell_type": "code",
   "execution_count": 19,
   "outputs": [],
   "source": [
    "with open('../models/knn_model.pkl', 'wb') as f:\n",
    "    pickle.dump(knn_model, f)"
   ],
   "metadata": {
    "collapsed": false,
    "ExecuteTime": {
     "end_time": "2023-12-08T10:58:40.036548Z",
     "start_time": "2023-12-08T10:58:39.984067900Z"
    }
   },
   "id": "8bca324d4f5a4da5"
  },
  {
   "cell_type": "code",
   "execution_count": null,
   "outputs": [],
   "source": [],
   "metadata": {
    "collapsed": false
   },
   "id": "4a298bd7fd795fff"
  }
 ],
 "metadata": {
  "kernelspec": {
   "display_name": "Python 3",
   "language": "python",
   "name": "python3"
  },
  "language_info": {
   "codemirror_mode": {
    "name": "ipython",
    "version": 2
   },
   "file_extension": ".py",
   "mimetype": "text/x-python",
   "name": "python",
   "nbconvert_exporter": "python",
   "pygments_lexer": "ipython2",
   "version": "2.7.6"
  }
 },
 "nbformat": 4,
 "nbformat_minor": 5
}
